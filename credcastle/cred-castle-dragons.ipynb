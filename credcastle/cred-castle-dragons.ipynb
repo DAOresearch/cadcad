{
 "cells": [
  {
   "cell_type": "markdown",
   "metadata": {},
   "source": [
    "# CredCastle Experiments"
   ]
  },
  {
   "source": [
    "## Check cadCAD"
   ],
   "cell_type": "markdown",
   "metadata": {}
  },
  {
   "source": [
    "%pip show cadCAD"
   ],
   "cell_type": "code",
   "metadata": {},
   "execution_count": null,
   "outputs": []
  },
  {
   "source": [
    "## Import Stuff"
   ],
   "cell_type": "markdown",
   "metadata": {}
  },
  {
   "cell_type": "code",
   "execution_count": null,
   "metadata": {},
   "outputs": [],
   "source": [
    "import numpy as np\n",
    "import random as random\n",
    "\n",
    "from cadCAD.configuration.utils import config_sim\n",
    "from cadCAD.configuration import Experiment\n",
    "from cadCAD import configs\n",
    "\n",
    "from cadCAD.engine import ExecutionMode, ExecutionContext\n",
    "from cadCAD.engine import Executor\n"
   ]
  },
  {
   "source": [
    "## Initial Params"
   ],
   "cell_type": "markdown",
   "metadata": {}
  },
  {
   "cell_type": "code",
   "execution_count": null,
   "metadata": {},
   "outputs": [],
   "source": [
    "genesis_states = {\n",
    "    # the castle\n",
    "    'castle': 1,\n",
    "    # the difficulty of building the castle\n",
    "    'difficulty': 1000, \n",
    "    # the folks in the village\n",
    "    'village_population': 1000,\n",
    "    # the number of dragons in cred land\n",
    "    'dragons': 3,\n",
    "}\n",
    "\n",
    "sim_config_dict = {\n",
    "    # days\n",
    "    'T': range(1000), \n",
    "    # parallel universes\n",
    "    'N': 3,\n",
    "    #'M': {}\n",
    "}"
   ]
  },
  {
   "source": [
    "## Policy Functions"
   ],
   "cell_type": "markdown",
   "metadata": {}
  },
  {
   "cell_type": "code",
   "execution_count": null,
   "metadata": {},
   "outputs": [],
   "source": [
    "def p_working_villagers(params, step, sH, s):\n",
    "    # how many villagers are working today\n",
    "    working_villagers = np.random.randint(1, s['village_population'])\n",
    "    return ({'working_villagers': working_villagers})\n",
    "\n",
    "def p_villager_effort(params, step, sH, s):\n",
    "    # how motivated are the villagers today\n",
    "    villager_effort = np.random.randint(1, 10)\n",
    "    return ({'villager_effort': villager_effort})\n",
    "\n",
    "def p_there_be_dragons(params, step, sH, s):\n",
    "    there_be_dragons = False\n",
    "    # dragons may be near the village\n",
    "    if random.randint(1, 10) <= s['dragons']:\n",
    "        there_be_dragons = True\n",
    "    return ({'there_be_dragons': there_be_dragons})"
   ]
  },
  {
   "source": [
    "## State Update Functions"
   ],
   "cell_type": "markdown",
   "metadata": {}
  },
  {
   "cell_type": "code",
   "execution_count": null,
   "metadata": {},
   "outputs": [],
   "source": [
    "def s_build_castle(params, step, sH, s, _input):\n",
    "    y = 'castle'\n",
    "    x = s[y]\n",
    "    # villagers do work\n",
    "    add_to_castle = round(_input['working_villagers'] * _input['villager_effort'] / s['difficulty'])\n",
    "    # dragons may damange castle\n",
    "    if _input['there_be_dragons']:\n",
    "        add_to_castle -= s['dragons']\n",
    "    x += add_to_castle\n",
    "    return (y, x)\n",
    "\n",
    "def s_dragons_eat_villagers(params, step, sH, s, _input):\n",
    "    y = 'village_population'\n",
    "    x = s[y]\n",
    "    # dragons eat villagers\n",
    "    if _input['there_be_dragons']:\n",
    "        x -= s['dragons']\n",
    "    # if all the villagers are eaten the dragons leave\n",
    "    if x <= 0:\n",
    "        x = 0\n",
    "        s['dragons'] = 0\n",
    "    return (y, x)\n",
    "\n"
   ]
  },
  {
   "source": [
    "## State Update Blocks"
   ],
   "cell_type": "markdown",
   "metadata": {}
  },
  {
   "cell_type": "code",
   "execution_count": null,
   "metadata": {},
   "outputs": [],
   "source": [
    "partial_state_update_blocks = [\n",
    "    { \n",
    "        # policies represent the behavior of agents that interact with components of the system\n",
    "        'policies': { \n",
    "            'villager_effort': p_villager_effort,\n",
    "            'working_villagers': p_working_villagers,\n",
    "            'there_be_dragons': p_there_be_dragons\n",
    "        },\n",
    "        # state variables that will be updated\n",
    "        'variables': {\n",
    "            'castle': s_build_castle,\n",
    "            'village_population': s_dragons_eat_villagers\n",
    "        }\n",
    "    }\n",
    "]"
   ]
  },
  {
   "cell_type": "markdown",
   "metadata": {},
   "source": [
    "## Putting it all together"
   ]
  },
  {
   "cell_type": "code",
   "execution_count": null,
   "metadata": {},
   "outputs": [],
   "source": [
    "# imported some addition utilities to help with configuration set-up\n",
    "exp = Experiment()\n",
    "c = config_sim(sim_config_dict)\n",
    "# The configurations above are then packaged into a `Configuration` object\n",
    "del configs[:]\n",
    "# dict containing variable names and initial values\n",
    "exp.append_configs(initial_state=genesis_states, \n",
    "                    # dict containing state update functions \n",
    "                    partial_state_update_blocks=partial_state_update_blocks, \n",
    "                    # preprocessed dictionaries containing simulation parameters\n",
    "                    sim_configs=c)"
   ]
  },
  {
   "cell_type": "markdown",
   "metadata": {},
   "source": [
    "## Running the engine"
   ]
  },
  {
   "cell_type": "code",
   "execution_count": null,
   "metadata": {},
   "outputs": [],
   "source": [
    "%%capture\n",
    "exec_mode = ExecutionMode()\n",
    "local_mode_ctx = ExecutionContext(exec_mode.local_mode)\n",
    "\n",
    "# pass the configuration object inside an array\n",
    "simulation = Executor(exec_context=local_mode_ctx, configs=configs) \n",
    "# the `execute()` method returns a tuple; its first elements contains the raw results\n",
    "raw_system_events, tensor_field, sessions = simulation.execute() "
   ]
  },
  {
   "cell_type": "markdown",
   "metadata": {},
   "source": [
    "## Data Viz"
   ]
  },
  {
   "cell_type": "code",
   "execution_count": null,
   "metadata": {},
   "outputs": [],
   "source": [
    "%matplotlib inline\n",
    "import pandas as pd\n",
    "simulation_result = pd.DataFrame(raw_system_events)\n",
    "simulation_result.set_index(['subset', 'run', 'timestep', 'substep'])"
   ]
  },
  {
   "cell_type": "code",
   "execution_count": null,
   "metadata": {},
   "outputs": [],
   "source": [
    "simulation_result.plot('timestep', ['castle', 'village_population'], grid=True, \n",
    "        colormap = 'gist_rainbow',\n",
    "        xticks=list(simulation_result['timestep'].drop_duplicates()), \n",
    "        yticks=list(range(1+(simulation_result['castle']+simulation_result['village_population']).max())))"
   ]
  },
  {
   "cell_type": "code",
   "execution_count": null,
   "metadata": {},
   "outputs": [],
   "source": []
  }
 ],
 "metadata": {
  "kernelspec": {
   "display_name": "Python 3",
   "language": "python",
   "name": "python3"
  },
  "language_info": {
   "codemirror_mode": {
    "name": "ipython",
    "version": 3
   },
   "file_extension": ".py",
   "mimetype": "text/x-python",
   "name": "python",
   "nbconvert_exporter": "python",
   "pygments_lexer": "ipython3",
   "version": "3.8.6-final"
  }
 },
 "nbformat": 4,
 "nbformat_minor": 4
}