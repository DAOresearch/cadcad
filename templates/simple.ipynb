{
 "metadata": {
  "language_info": {
   "codemirror_mode": {
    "name": "ipython",
    "version": 3
   },
   "file_extension": ".py",
   "mimetype": "text/x-python",
   "name": "python",
   "nbconvert_exporter": "python",
   "pygments_lexer": "ipython3",
   "version": "3.8.6-final"
  },
  "orig_nbformat": 2,
  "kernelspec": {
   "name": "python3",
   "display_name": "Python 3"
  }
 },
 "nbformat": 4,
 "nbformat_minor": 2,
 "cells": [
  {
   "source": [
    "# Simple cadCAD Template"
   ],
   "cell_type": "markdown",
   "metadata": {}
  },
  {
   "source": [
    "This is a template that will allow you to start a cadCAD experiment without needing to fork another project."
   ],
   "cell_type": "markdown",
   "metadata": {}
  },
  {
   "source": [
    "## Check cadCAD\n",
    "\n",
    "This cell doesn't do anything, but it does ensure that you know what version of cadCAD you're running. That way if/when you encounter technical difficulties you can tell the community which version of cadCAD you're running. Might save you hours of pain if all you need to do is upgrade to the latest version. "
   ],
   "cell_type": "markdown",
   "metadata": {}
  },
  {
   "cell_type": "code",
   "execution_count": 33,
   "metadata": {},
   "outputs": [
    {
     "output_type": "stream",
     "name": "stdout",
     "text": [
      "Name: cadCAD\n",
      "Version: 0.4.23\n",
      "Summary: cadCAD: a differential games based simulation software package for research, validation, and         Computer Aided Design of economic systems\n",
      "Home-page: https://github.com/cadCAD-org/cadCAD\n",
      "Author: Joshua E. Jodesty\n",
      "Author-email: joshua@block.science\n",
      "License: LICENSE.txt\n",
      "Location: /usr/local/lib/python3.8/site-packages\n",
      "Requires: fn, pathos, pandas, funcy\n",
      "Required-by: cadCAD-diagram\n",
      "Note: you may need to restart the kernel to use updated packages.\n"
     ]
    }
   ],
   "source": [
    "%pip show cadCAD"
   ]
  },
  {
   "source": [
    "## Import Stuff\n",
    "\n",
    "These are the libraries you'll need (cadCAD stuff) and that could be useful (python stuff) for your cadCAD model."
   ],
   "cell_type": "markdown",
   "metadata": {}
  },
  {
   "cell_type": "code",
   "execution_count": 34,
   "metadata": {},
   "outputs": [],
   "source": [
    "# Python\n",
    "import numpy as np\n",
    "import random as random\n",
    "\n",
    "# cadCAD\n",
    "from cadCAD.configuration.utils import config_sim\n",
    "from cadCAD.configuration import Experiment\n",
    "from cadCAD import configs\n",
    "from cadCAD.engine import ExecutionMode, ExecutionContext\n",
    "from cadCAD.engine import Executor\n",
    "\n",
    "# Notebook setup\n",
    "experiment = Experiment()\n",
    "del configs[:]"
   ]
  },
  {
   "source": [
    "## Initial Params\n",
    "\n",
    "These are the parameters that control the behavior of a system. For example, if you were modeling a Web3 protocol these would be the parameters within a system that token holders could vote to modify. All of the parameters of a protocol that can be modified should be accessible here. That way it's easy to modify and run similations to explore how parameter changes might affect the network."
   ],
   "cell_type": "markdown",
   "metadata": {}
  },
  {
   "cell_type": "code",
   "execution_count": 35,
   "metadata": {},
   "outputs": [],
   "source": [
    "# the initial state of the cadCAD model\n",
    "# in a stock and flow model you can think of this as the stocks\n",
    "genesis_states = {\n",
    "    # stuff goes here\n",
    "    'stuff': 1,\n",
    "    # things\n",
    "    'things': 100\n",
    "}\n",
    "\n",
    "# The parameters to run the model\n",
    "# Often these are found towards the end of the file near the cadCAD engine\n",
    "# but we're putting them here so that you can easily configure and run \n",
    "# the notebook without having to scroll back and forth\n",
    "params = {\n",
    "    # timesteps\n",
    "    'T': range(100),\n",
    "    # parallel runs\n",
    "    'N': 3,\n",
    "    # system params\n",
    "    'M': {\n",
    "        'param_1': [2],\n",
    "        'param_2': [7]\n",
    "    }\n",
    "}"
   ]
  },
  {
   "source": [
    "## Policy Functions\n",
    "\n",
    "Policy functions are like flows in stock and flow diagrams. They modify the inputs to state update functions."
   ],
   "cell_type": "markdown",
   "metadata": {}
  },
  {
   "cell_type": "code",
   "execution_count": 36,
   "metadata": {},
   "outputs": [],
   "source": [
    "# We start policy functions with p_ so that they're easier to keep track of\n",
    "# when we put them into state update blocks. \n",
    "def p_modify_stuff(params, step, sH, s):\n",
    "    # a data point that's useful for something\n",
    "    data_point = np.random.randint(1, s['things']) * params['param_1']\n",
    "    # returns a python dictionary item\n",
    "    return ({'data_point': data_point})\n"
   ]
  },
  {
   "source": [
    "## State Update Functions\n",
    "\n",
    "These functions take in inputs (state variables and policies) and modify the state."
   ],
   "cell_type": "markdown",
   "metadata": {}
  },
  {
   "cell_type": "code",
   "execution_count": 37,
   "metadata": {},
   "outputs": [],
   "source": [
    "# We start state update functions with s_ so that they're easier to keep track of\n",
    "# when we put them into state update blocks. \n",
    "def s_modify_state(params, step, sH, s, _input):\n",
    "    y = 'stuff'\n",
    "    x = s[y]\n",
    "    add_stuff = round(s['things'] / _input['data_point']) + params['param_2']\n",
    "    x += add_stuff\n",
    "    return (y, x)\n"
   ]
  },
  {
   "source": [
    "## State Update Block\n",
    "\n",
    "If you're approaching cadCAD from Web3 you can think of the state of the model as something that evolves in blocks. Each block has a set of actions that updates the state. Those transactions then get batched into blocks to be processed together. In cadCAD blocks are called \"`partial_state_update_blocks`.\" As you can see below, this is an array that is very similar to a \"block\" in a blockchain in that it represents a set of actions to update the state. That state is then updated across many timesteps. This is similar to how the state of a blockchain is updated over many timesteps as new blocks are added.\n",
    "\n"
   ],
   "cell_type": "markdown",
   "metadata": {}
  },
  {
   "cell_type": "code",
   "execution_count": 38,
   "metadata": {},
   "outputs": [],
   "source": [
    "partial_state_update_blocks = [\n",
    "    { \n",
    "        # policies represent the behavior of agents that interact with components of the system\n",
    "        'policies': { \n",
    "            'data_point': p_modify_stuff\n",
    "        },\n",
    "        # state variables that will be updated\n",
    "        'variables': {\n",
    "            'stuff': s_modify_state\n",
    "        }\n",
    "    }\n",
    "]"
   ]
  },
  {
   "source": [
    "## Running the cadCAD Engine"
   ],
   "cell_type": "markdown",
   "metadata": {}
  },
  {
   "cell_type": "code",
   "execution_count": 39,
   "metadata": {},
   "outputs": [
    {
     "output_type": "stream",
     "name": "stdout",
     "text": [
      "\n",
      "                  ___________    ____\n",
      "  ________ __ ___/ / ____/   |  / __ \\\n",
      " / ___/ __` / __  / /   / /| | / / / /\n",
      "/ /__/ /_/ / /_/ / /___/ ___ |/ /_/ /\n",
      "\\___/\\__,_/\\__,_/\\____/_/  |_/_____/\n",
      "by cadCAD\n",
      "\n",
      "Execution Mode: local_proc\n",
      "Configuration Count: 1\n",
      "Dimensions of the first simulation: (Timesteps, Params, Runs, Vars) = (100, 2, 3, 2)\n",
      "Execution Method: local_simulations\n",
      "SimIDs   : [0, 0, 0]\n",
      "SubsetIDs: [0, 0, 0]\n",
      "Ns       : [0, 1, 2]\n",
      "ExpIDs   : [0, 0, 0]\n",
      "Execution Mode: parallelized\n",
      "Total execution time: 0.09s\n"
     ]
    }
   ],
   "source": [
    "experiment.append_configs(\n",
    "    initial_state = genesis_states,\n",
    "    partial_state_update_blocks = partial_state_update_blocks,\n",
    "    sim_configs = config_sim(params)\n",
    ")\n",
    "\n",
    "exec_mode = ExecutionMode()\n",
    "exec_context = ExecutionContext()\n",
    "\n",
    "simulation = Executor(exec_context=exec_context, configs=configs) \n",
    "raw_system_events, tensor_field, sessions = simulation.execute() "
   ]
  },
  {
   "source": [
    "## Data Visualization\n",
    "\n",
    "This is often half the battle. Not only do need to design and build a cadCAD model, but you need to understand how it's working and be able to effectively communicate that to other people. A picture says a thousand words, thus enter data viz. Getting good at using python data viz libraries is probably the highest leverage thing you can do after you learn the cadCAD basics."
   ],
   "cell_type": "markdown",
   "metadata": {}
  },
  {
   "cell_type": "code",
   "execution_count": 40,
   "metadata": {},
   "outputs": [
    {
     "output_type": "execute_result",
     "data": {
      "text/plain": [
       "                             stuff  things  simulation\n",
       "subset run timestep substep                           \n",
       "0      1   0        0            1     100           0\n",
       "           1        1           10     100           0\n",
       "           2        1           18     100           0\n",
       "           3        1           26     100           0\n",
       "           4        1           34     100           0\n",
       "...                            ...     ...         ...\n",
       "       3   96       1          966     100           0\n",
       "           97       1          974     100           0\n",
       "           98       1          989     100           0\n",
       "           99       1          997     100           0\n",
       "           100      1         1006     100           0\n",
       "\n",
       "[303 rows x 3 columns]"
      ],
      "text/html": "<div>\n<style scoped>\n    .dataframe tbody tr th:only-of-type {\n        vertical-align: middle;\n    }\n\n    .dataframe tbody tr th {\n        vertical-align: top;\n    }\n\n    .dataframe thead th {\n        text-align: right;\n    }\n</style>\n<table border=\"1\" class=\"dataframe\">\n  <thead>\n    <tr style=\"text-align: right;\">\n      <th></th>\n      <th></th>\n      <th></th>\n      <th></th>\n      <th>stuff</th>\n      <th>things</th>\n      <th>simulation</th>\n    </tr>\n    <tr>\n      <th>subset</th>\n      <th>run</th>\n      <th>timestep</th>\n      <th>substep</th>\n      <th></th>\n      <th></th>\n      <th></th>\n    </tr>\n  </thead>\n  <tbody>\n    <tr>\n      <th rowspan=\"11\" valign=\"top\">0</th>\n      <th rowspan=\"5\" valign=\"top\">1</th>\n      <th>0</th>\n      <th>0</th>\n      <td>1</td>\n      <td>100</td>\n      <td>0</td>\n    </tr>\n    <tr>\n      <th>1</th>\n      <th>1</th>\n      <td>10</td>\n      <td>100</td>\n      <td>0</td>\n    </tr>\n    <tr>\n      <th>2</th>\n      <th>1</th>\n      <td>18</td>\n      <td>100</td>\n      <td>0</td>\n    </tr>\n    <tr>\n      <th>3</th>\n      <th>1</th>\n      <td>26</td>\n      <td>100</td>\n      <td>0</td>\n    </tr>\n    <tr>\n      <th>4</th>\n      <th>1</th>\n      <td>34</td>\n      <td>100</td>\n      <td>0</td>\n    </tr>\n    <tr>\n      <th>...</th>\n      <th>...</th>\n      <th>...</th>\n      <td>...</td>\n      <td>...</td>\n      <td>...</td>\n    </tr>\n    <tr>\n      <th rowspan=\"5\" valign=\"top\">3</th>\n      <th>96</th>\n      <th>1</th>\n      <td>966</td>\n      <td>100</td>\n      <td>0</td>\n    </tr>\n    <tr>\n      <th>97</th>\n      <th>1</th>\n      <td>974</td>\n      <td>100</td>\n      <td>0</td>\n    </tr>\n    <tr>\n      <th>98</th>\n      <th>1</th>\n      <td>989</td>\n      <td>100</td>\n      <td>0</td>\n    </tr>\n    <tr>\n      <th>99</th>\n      <th>1</th>\n      <td>997</td>\n      <td>100</td>\n      <td>0</td>\n    </tr>\n    <tr>\n      <th>100</th>\n      <th>1</th>\n      <td>1006</td>\n      <td>100</td>\n      <td>0</td>\n    </tr>\n  </tbody>\n</table>\n<p>303 rows × 3 columns</p>\n</div>"
     },
     "metadata": {},
     "execution_count": 40
    }
   ],
   "source": [
    "%matplotlib inline\n",
    "import pandas as pd\n",
    "simulation_result = pd.DataFrame(raw_system_events)\n",
    "simulation_result.set_index(['subset', 'run', 'timestep', 'substep'])"
   ]
  },
  {
   "cell_type": "code",
   "execution_count": null,
   "metadata": {},
   "outputs": [],
   "source": [
    "simulation_result.plot('timestep', ['stuff', 'things'], grid=True, \n",
    "        colormap = 'gist_rainbow',\n",
    "        xticks=list(simulation_result['timestep'].drop_duplicates()), \n",
    "        yticks=list(range(1+(simulation_result['stuff']+simulation_result['things']).max())))"
   ]
  },
  {
   "cell_type": "code",
   "execution_count": null,
   "metadata": {},
   "outputs": [],
   "source": []
  }
 ]
}