{
 "metadata": {
  "language_info": {
   "codemirror_mode": {
    "name": "ipython",
    "version": 3
   },
   "file_extension": ".py",
   "mimetype": "text/x-python",
   "name": "python",
   "nbconvert_exporter": "python",
   "pygments_lexer": "ipython3",
   "version": "3.8.6-final"
  },
  "orig_nbformat": 2,
  "kernelspec": {
   "name": "python3",
   "display_name": "Python 3"
  }
 },
 "nbformat": 4,
 "nbformat_minor": 2,
 "cells": [
  {
   "source": [
    "# Simple Token Distribution\n",
    "\n",
    "A cadCAD sketch exploring an inflationary token model managed and distributed by community contributors.\n"
   ],
   "cell_type": "markdown",
   "metadata": {}
  },
  {
   "source": [
    "## Check cadCAD\n",
    "\n",
    "This cell doesn't do anything, but it does ensure that you know what version of cadCAD you're running. That way if/when you encounter technical difficulties you can tell the community which version of cadCAD you're running. Might save you hours of pain if all you need to do is upgrade to the latest version. "
   ],
   "cell_type": "markdown",
   "metadata": {}
  },
  {
   "cell_type": "code",
   "execution_count": 17,
   "metadata": {},
   "outputs": [
    {
     "output_type": "stream",
     "name": "stdout",
     "text": [
      "Name: cadCAD\n",
      "Version: 0.4.23\n",
      "Summary: cadCAD: a differential games based simulation software package for research, validation, and         Computer Aided Design of economic systems\n",
      "Home-page: https://github.com/cadCAD-org/cadCAD\n",
      "Author: Joshua E. Jodesty\n",
      "Author-email: joshua@block.science\n",
      "License: LICENSE.txt\n",
      "Location: /usr/local/lib/python3.8/site-packages\n",
      "Requires: funcy, pathos, pandas, fn\n",
      "Required-by: cadCAD-diagram\n",
      "Note: you may need to restart the kernel to use updated packages.\n"
     ]
    }
   ],
   "source": [
    "%pip show cadCAD"
   ]
  },
  {
   "source": [
    "## Import Stuff\n",
    "\n",
    "These are the libraries you'll need (cadCAD stuff) and that could be useful (python stuff) for your cadCAD model."
   ],
   "cell_type": "markdown",
   "metadata": {}
  },
  {
   "cell_type": "code",
   "execution_count": 18,
   "metadata": {},
   "outputs": [],
   "source": [
    "# Python\n",
    "import numpy as np\n",
    "import random as random\n",
    "\n",
    "# cadCAD\n",
    "from cadCAD.configuration.utils import config_sim\n",
    "from cadCAD.configuration import Experiment\n",
    "from cadCAD import configs\n",
    "from cadCAD.engine import ExecutionMode, ExecutionContext\n",
    "from cadCAD.engine import Executor\n",
    "\n",
    "# Notebook setup\n",
    "experiment = Experiment()\n",
    "del configs[:]"
   ]
  },
  {
   "source": [
    "## Initial Params\n",
    "\n",
    "These are the parameters that control the behavior of a system. For example, if you were modeling a Web3 protocol these would be the parameters within a system that token holders could vote to modify. All of the parameters of a protocol that can be modified should be accessible here. That way it's easy to modify and run similations to explore how parameter changes might affect the network."
   ],
   "cell_type": "markdown",
   "metadata": {}
  },
  {
   "cell_type": "code",
   "execution_count": 19,
   "metadata": {},
   "outputs": [],
   "source": [
    "# The initial states of the cadCAD model\n",
    "genesis_states = {\n",
    "    # A variable that tracks the total amount of tokens in the system\n",
    "    'tokens': 1,\n",
    "    # Contributor stats\n",
    "    'contributors': {\n",
    "        i: {'balance': 1, 'skill_level': 5, 'impact': 0} for i in range(1)    \n",
    "    },\n",
    "    # The pool of tokens to reward contributors\n",
    "    'treasury': 0,\n",
    "}\n",
    "\n",
    "# The parameters to run the model\n",
    "params = {\n",
    "    # Timesteps\n",
    "    'T': range(52),\n",
    "    # Parallel runs\n",
    "    'N': 1,\n",
    "    # Params passed to policy and state update functions\n",
    "    'M': {\n",
    "        # Number of tokens to mint to the treasury \n",
    "        'weekly_token_minting': [1000],\n",
    "        # Number of new contributors\n",
    "        'weekly_new_contributors': [3],\n",
    "        # Maximum amount of effort per week\n",
    "        'maximum_effort': [7],\n",
    "        # Maximum skill_level of any contributor\n",
    "        'maximum_skill_level': [10]\n",
    "    }\n",
    "}"
   ]
  },
  {
   "source": [
    "## Policy Functions\n",
    "\n",
    "Policy functions are like flows in stock and flow diagrams. They modify the inputs to state update functions.\n",
    "\n",
    "We start policy functions with p_ so that they're easier to keep track of when we put them into state update blocks. "
   ],
   "cell_type": "markdown",
   "metadata": {}
  },
  {
   "cell_type": "code",
   "execution_count": 20,
   "metadata": {},
   "outputs": [],
   "source": [
    "# Mint tokens on a weekly basis (each timestep)\n",
    "def p_mint_tokens(params, step, sH, s):\n",
    "    minted_tokens = params['weekly_token_minting']\n",
    "    return ({'minted_tokens': minted_tokens})\n",
    "\n",
    "# Do work to earn tokens\n",
    "def p_effort(params, step, sH, s):\n",
    "    effort = random.randint(1, params['maximum_effort'])\n",
    "    return ({'effort': effort})\n",
    "\n",
    "# New community contributors\n",
    "def p_new_community_contributors(params, step, sH, s):\n",
    "    latest_contributor_key = list(s['contributors'])[-1]\n",
    "    new_contributors = {\n",
    "        i: {\n",
    "            'balance': 0,\n",
    "            'skill_level': random.randint(1, params['maximum_skill_level'])\n",
    "        } for i in range(latest_contributor_key + 1, latest_contributor_key + params['weekly_new_contributors'])\n",
    "    }\n",
    "    return ({'new_contributors': new_contributors})\n"
   ]
  },
  {
   "source": [
    "## State Update Functions\n",
    "\n",
    "These functions take in inputs (state variables and policies) and modify the state.\n",
    "\n",
    "We start policy functions with p_ so that they're easier to keep track of when we put them into state update blocks."
   ],
   "cell_type": "markdown",
   "metadata": {}
  },
  {
   "cell_type": "code",
   "execution_count": 21,
   "metadata": {},
   "outputs": [],
   "source": [
    "# Update token count based on weekly minting\n",
    "def s_update_token_count(params, step, sH, s, _input):\n",
    "    y = 'tokens'\n",
    "    x = s[y]\n",
    "    x += _input['minted_tokens']\n",
    "    return (y, x)\n",
    "\n",
    "# Put newly minted tokens into the community treasury\n",
    "def s_mint_to_treasury(params, step, sH, s, _input):\n",
    "    y = 'treasury'\n",
    "    x = s[y]\n",
    "    x += _input['minted_tokens']\n",
    "    return (y, x)\n",
    "\n",
    "# Give new contributors accounts\n",
    "def s_new_contributor_accounts(params, step, sH, s, _input):\n",
    "    y = 'contributors'\n",
    "    x = s[y]\n",
    "    x.update(_input['new_contributors'])\n",
    "    return (y, x)\n",
    "\n",
    "# Update community treasury based on contribution rewards\n",
    "def s_distribute_treasury(params, step, sH, s, _input):\n",
    "    y = 'treasury'\n",
    "    x = s[y]\n",
    "    for i in s['contributors']:\n",
    "        impact = s['contributors'][i]['skill_level'] * _input['effort']\n",
    "        if x >= impact:\n",
    "            x -= impact\n",
    "        else:\n",
    "            break\n",
    "    return (y, x)\n",
    "\n",
    "# Distribute rewards to contributors\n",
    "def s_reward_contributions(params, step, sH, s, _input):\n",
    "    y = 'contributors'\n",
    "    x = s[y]\n",
    "    for i in x:\n",
    "        impact = s['contributors'][i]['skill_level'] * _input['effort']\n",
    "        if s['treasury'] >= impact:\n",
    "            x[i]['balance'] += impact\n",
    "        else:\n",
    "            break\n",
    "    return (y, x)\n"
   ]
  },
  {
   "source": [
    "## State Update Block\n",
    "\n",
    "If you're approaching cadCAD from Web3 you can think of the state of the model as something that evolves in blocks. Each block has a set of actions that updates the state. Those transactions then get batched into blocks to be processed together. In cadCAD blocks are called \"`partial_state_update_blocks`.\" As you can see below, this is an array that is very similar to a \"block\" in a blockchain in that it represents a set of actions to update the state. That state is then updated across many timesteps. This is similar to how the state of a blockchain is updated over many timesteps as new blocks are added.\n",
    "\n"
   ],
   "cell_type": "markdown",
   "metadata": {}
  },
  {
   "cell_type": "code",
   "execution_count": 22,
   "metadata": {},
   "outputs": [],
   "source": [
    "partial_state_update_blocks = [\n",
    "    { \n",
    "        # Mint tokens\n",
    "        'policies': { \n",
    "            'minted_tokens': p_mint_tokens\n",
    "        },\n",
    "        # Update token count and community treasury\n",
    "        'variables': {\n",
    "            'tokens': s_update_token_count,\n",
    "            'treasury': s_mint_to_treasury\n",
    "        }\n",
    "    },\n",
    "    {\n",
    "        # Add new contributors\n",
    "        'policies': {\n",
    "            'new_contributors': p_new_community_contributors\n",
    "        },\n",
    "        # Give contributors accounts\n",
    "        'variables': {\n",
    "            'contributors': s_new_contributor_accounts\n",
    "        }\n",
    "    },\n",
    "    {\n",
    "        # Do work\n",
    "        'policies': {\n",
    "            'effort': p_effort\n",
    "        },\n",
    "        # Recognize and reward contributors\n",
    "        'variables': {\n",
    "            'treasury': s_distribute_treasury,\n",
    "            'contributors': s_reward_contributions\n",
    "        }\n",
    "    }\n",
    "    # TO DO: \n",
    "    # Add in intermediate step between doing work and getting rewarded\n",
    "    # At this step contributors would earn impact points\n",
    "    # Then in the reward stage the weekly rewards would be distributed between contributors based on impact points\n",
    "    # 20% of rewards would stay in the treasury for long-term projects, and 80% would go to weekly contributors \n",
    "]"
   ]
  },
  {
   "source": [
    "## Running the cadCAD Engine"
   ],
   "cell_type": "markdown",
   "metadata": {}
  },
  {
   "cell_type": "code",
   "execution_count": 23,
   "metadata": {},
   "outputs": [
    {
     "output_type": "error",
     "ename": "TypeError",
     "evalue": "'>' not supported between instances of 'range' and 'int'",
     "traceback": [
      "\u001b[0;31m---------------------------------------------------------------------------\u001b[0m",
      "\u001b[0;31mTypeError\u001b[0m                                 Traceback (most recent call last)",
      "\u001b[0;32m<ipython-input-23-0f3186a91b27>\u001b[0m in \u001b[0;36m<module>\u001b[0;34m\u001b[0m\n\u001b[0;32m----> 1\u001b[0;31m experiment.append_configs(\n\u001b[0m\u001b[1;32m      2\u001b[0m     \u001b[0minitial_state\u001b[0m \u001b[0;34m=\u001b[0m \u001b[0mgenesis_states\u001b[0m\u001b[0;34m,\u001b[0m\u001b[0;34m\u001b[0m\u001b[0;34m\u001b[0m\u001b[0m\n\u001b[1;32m      3\u001b[0m     \u001b[0mpartial_state_update_blocks\u001b[0m \u001b[0;34m=\u001b[0m \u001b[0mpartial_state_update_blocks\u001b[0m\u001b[0;34m,\u001b[0m\u001b[0;34m\u001b[0m\u001b[0;34m\u001b[0m\u001b[0m\n\u001b[1;32m      4\u001b[0m     \u001b[0msim_configs\u001b[0m \u001b[0;34m=\u001b[0m \u001b[0mconfig_sim\u001b[0m\u001b[0;34m(\u001b[0m\u001b[0mparams\u001b[0m\u001b[0;34m)\u001b[0m\u001b[0;34m\u001b[0m\u001b[0;34m\u001b[0m\u001b[0m\n\u001b[1;32m      5\u001b[0m )\n",
      "\u001b[0;32m/usr/local/lib/python3.8/site-packages/cadCAD/configuration/__init__.py\u001b[0m in \u001b[0;36mappend_configs\u001b[0;34m(self, user_id, sim_configs, initial_state, seeds, raw_exogenous_states, env_processes, partial_state_update_blocks, policy_ops, _exo_update_per_ts, config_list)\u001b[0m\n\u001b[1;32m     77\u001b[0m             \u001b[0msim_config\u001b[0m\u001b[0;34m[\u001b[0m\u001b[0;34m'subset_window'\u001b[0m\u001b[0;34m]\u001b[0m \u001b[0;34m=\u001b[0m \u001b[0mself\u001b[0m\u001b[0;34m.\u001b[0m\u001b[0msubset_window\u001b[0m\u001b[0;34m\u001b[0m\u001b[0;34m\u001b[0m\u001b[0m\n\u001b[1;32m     78\u001b[0m             \u001b[0mN\u001b[0m \u001b[0;34m=\u001b[0m \u001b[0msim_config\u001b[0m\u001b[0;34m[\u001b[0m\u001b[0;34m'N'\u001b[0m\u001b[0;34m]\u001b[0m\u001b[0;34m\u001b[0m\u001b[0;34m\u001b[0m\u001b[0m\n\u001b[0;32m---> 79\u001b[0;31m             \u001b[0;32mif\u001b[0m \u001b[0mN\u001b[0m \u001b[0;34m>\u001b[0m \u001b[0;36m1\u001b[0m\u001b[0;34m:\u001b[0m\u001b[0;34m\u001b[0m\u001b[0;34m\u001b[0m\u001b[0m\n\u001b[0m\u001b[1;32m     80\u001b[0m                 \u001b[0;32mfor\u001b[0m \u001b[0mn\u001b[0m \u001b[0;32min\u001b[0m \u001b[0mrange\u001b[0m\u001b[0;34m(\u001b[0m\u001b[0mN\u001b[0m\u001b[0;34m)\u001b[0m\u001b[0;34m:\u001b[0m\u001b[0;34m\u001b[0m\u001b[0;34m\u001b[0m\u001b[0m\n\u001b[1;32m     81\u001b[0m                     \u001b[0msim_config\u001b[0m\u001b[0;34m[\u001b[0m\u001b[0;34m'simulation_id'\u001b[0m\u001b[0;34m]\u001b[0m \u001b[0;34m=\u001b[0m \u001b[0msimulation_id\u001b[0m \u001b[0;34m+\u001b[0m \u001b[0msim_cnt\u001b[0m\u001b[0;34m\u001b[0m\u001b[0;34m\u001b[0m\u001b[0m\n",
      "\u001b[0;31mTypeError\u001b[0m: '>' not supported between instances of 'range' and 'int'"
     ]
    }
   ],
   "source": [
    "experiment.append_configs(\n",
    "    initial_state = genesis_states,\n",
    "    partial_state_update_blocks = partial_state_update_blocks,\n",
    "    sim_configs = config_sim(params)\n",
    ")\n",
    "\n",
    "exec_mode = ExecutionMode()\n",
    "exec_context = ExecutionContext()\n",
    "\n",
    "simulation = Executor(exec_context=exec_context, configs=configs) \n",
    "raw_system_events, tensor_field, sessions = simulation.execute() \n"
   ]
  },
  {
   "source": [
    "## Data Visualization\n",
    "\n",
    "This is often half the battle. Not only do need to design and build a cadCAD model, but you need to understand how it's working and be able to effectively communicate that to other people. A picture says a thousand words, thus enter data viz. Getting good at using python data viz libraries is probably the highest leverage thing you can do after you learn the cadCAD basics."
   ],
   "cell_type": "markdown",
   "metadata": {}
  },
  {
   "cell_type": "code",
   "execution_count": null,
   "metadata": {},
   "outputs": [],
   "source": [
    "import pandas as pd\n",
    "simulation_result = pd.DataFrame(raw_system_events)\n",
    "simulation_result.set_index(['subset', 'run', 'timestep', 'substep'])"
   ]
  },
  {
   "cell_type": "code",
   "execution_count": null,
   "metadata": {},
   "outputs": [],
   "source": [
    "raw_system_events"
   ]
  }
 ]
}