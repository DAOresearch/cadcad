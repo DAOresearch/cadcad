{
 "metadata": {
  "language_info": {
   "codemirror_mode": {
    "name": "ipython",
    "version": 3
   },
   "file_extension": ".py",
   "mimetype": "text/x-python",
   "name": "python",
   "nbconvert_exporter": "python",
   "pygments_lexer": "ipython3",
   "version": "3.8.6-final"
  },
  "orig_nbformat": 2,
  "kernelspec": {
   "name": "python3",
   "display_name": "Python 3"
  }
 },
 "nbformat": 4,
 "nbformat_minor": 2,
 "cells": [
  {
   "source": [
    "# WORK Token Distribution\n",
    "\n",
    "A cadCAD sketch for the Workbench WORK token distribution.\n"
   ],
   "cell_type": "markdown",
   "metadata": {}
  },
  {
   "source": [
    "## Check cadCAD\n",
    "\n",
    "This cell doesn't do anything, but it does ensure that you know what version of cadCAD you're running. That way if/when you encounter technical difficulties you can tell the community which version of cadCAD you're running. Might save you hours of pain if all you need to do is upgrade to the latest version. "
   ],
   "cell_type": "markdown",
   "metadata": {}
  },
  {
   "cell_type": "code",
   "execution_count": 70,
   "metadata": {},
   "outputs": [
    {
     "output_type": "stream",
     "name": "stdout",
     "text": [
      "Name: cadCAD\n",
      "Version: 0.4.23\n",
      "Summary: cadCAD: a differential games based simulation software package for research, validation, and         Computer Aided Design of economic systems\n",
      "Home-page: https://github.com/cadCAD-org/cadCAD\n",
      "Author: Joshua E. Jodesty\n",
      "Author-email: joshua@block.science\n",
      "License: LICENSE.txt\n",
      "Location: /usr/local/lib/python3.8/site-packages\n",
      "Requires: pandas, pathos, fn, funcy\n",
      "Required-by: cadCAD-diagram\n",
      "Note: you may need to restart the kernel to use updated packages.\n"
     ]
    }
   ],
   "source": [
    "%pip show cadCAD"
   ]
  },
  {
   "source": [
    "## Import Stuff\n",
    "\n",
    "These are the libraries you'll need (cadCAD stuff) and that could be useful (python stuff) for your cadCAD model."
   ],
   "cell_type": "markdown",
   "metadata": {}
  },
  {
   "cell_type": "code",
   "execution_count": 71,
   "metadata": {},
   "outputs": [],
   "source": [
    "# python stuff\n",
    "import numpy as np\n",
    "import random as random\n",
    "\n",
    "# cadCAD stuff\n",
    "from cadCAD.configuration.utils import config_sim\n",
    "from cadCAD.configuration import Experiment\n",
    "from cadCAD import configs\n",
    "from cadCAD.engine import ExecutionMode, ExecutionContext\n",
    "from cadCAD.engine import Executor"
   ]
  },
  {
   "source": [
    "## Initial Params\n",
    "\n",
    "These are the parameters that control the behavior of a system. For example, if you were modeling a Web3 protocol these would be the parameters within a system that token holders could vote to modify. All of the parameters of a protocol that can be modified should be accessible here. That way it's easy to modify and run similations to explore how parameter changes might affect the network."
   ],
   "cell_type": "markdown",
   "metadata": {}
  },
  {
   "cell_type": "code",
   "execution_count": 72,
   "metadata": {},
   "outputs": [],
   "source": [
    "# the initial state of the cadCAD model\n",
    "# in a stock and flow model you can think of this as the stocks\n",
    "genesis_states = {\n",
    "    'tokens': 1,\n",
    "    'weekly_token_minting': 100,\n",
    "    'community_treasury': 0,\n",
    "    'contributors': {\n",
    "        'token_balance': 0\n",
    "    }\n",
    "}\n",
    "\n",
    "# The parameters to run the model\n",
    "# Often these are found towards the end of the file near the cadCAD engine\n",
    "# but we're putting them here so that you can easily configure and run \n",
    "# the notebook without having to scroll back and forth\n",
    "sim_config_dict = {\n",
    "    # timesteps: weekly\n",
    "    'T': range(52), \n",
    "    # parallel runs\n",
    "    'N': 3,\n",
    "    # more advanced stuff\n",
    "    #'M': {}\n",
    "}"
   ]
  },
  {
   "source": [
    "## Policy Functions\n",
    "\n",
    "Policy functions are like flows in stock and flow diagrams. They modify the inputs to state update functions.\n",
    "\n",
    "We start policy functions with p_ so that they're easier to keep track of when we put them into state update blocks. "
   ],
   "cell_type": "markdown",
   "metadata": {}
  },
  {
   "cell_type": "code",
   "execution_count": 73,
   "metadata": {},
   "outputs": [],
   "source": [
    "# Mint tokens on a weekly basis (each timestep)\n",
    "def p_mint_tokens(params, step, sH, s):\n",
    "    minted_tokens = s['weekly_token_minting']\n",
    "    return ({'minted_tokens': minted_tokens})\n",
    "\n",
    "# Do work to earn tokens\n",
    "def p_do_work(params, step, sH, s):\n",
    "    # some contributions create more value than others\n",
    "    impact = random.randint(1, 10)\n",
    "    return ({'impact': impact})"
   ]
  },
  {
   "source": [
    "## State Update Functions\n",
    "\n",
    "These functions take in inputs (state variables and policies) and modify the state.\n",
    "\n",
    "We start policy functions with p_ so that they're easier to keep track of when we put them into state update blocks."
   ],
   "cell_type": "markdown",
   "metadata": {}
  },
  {
   "cell_type": "code",
   "execution_count": 74,
   "metadata": {},
   "outputs": [],
   "source": [
    "# Update token count based on weekly minting\n",
    "def s_update_token_count(params, step, sH, s, _input):\n",
    "    y = 'tokens'\n",
    "    x = s[y]\n",
    "    x += _input['minted_tokens']\n",
    "    return (y, x)\n",
    "\n",
    "# Put newly minted tokens into the community treasury\n",
    "def s_update_community_treasury(params, step, sH, s, _input):\n",
    "    y = 'community_treasury'\n",
    "    x = s[y]\n",
    "    x += _input['minted_tokens']\n",
    "    return (y, x)\n",
    "\n",
    "# Recognize and reward community contributors\n",
    "def s_reward_contributions(params, step, sH, s, _input):\n",
    "    y = 'contributors'\n",
    "    x = s[y]\n",
    "    x['token_balance'] += _input['impact']\n",
    "    return (y, x)\n"
   ]
  },
  {
   "source": [
    "## State Update Block\n",
    "\n",
    "If you're approaching cadCAD from Web3 you can think of the state of the model as something that evolves in blocks. Each block has a set of actions that updates the state. Those transactions then get batched into blocks to be processed together. In cadCAD blocks are called \"`partial_state_update_blocks`.\" As you can see below, this is an array that is very similar to a \"block\" in a blockchain in that it represents a set of actions to update the state. That state is then updated across many timesteps. This is similar to how the state of a blockchain is updated over many timesteps as new blocks are added.\n",
    "\n"
   ],
   "cell_type": "markdown",
   "metadata": {}
  },
  {
   "cell_type": "code",
   "execution_count": 75,
   "metadata": {},
   "outputs": [],
   "source": [
    "partial_state_update_blocks = [\n",
    "    { \n",
    "        # mint tokens\n",
    "        'policies': { \n",
    "            'minted_tokens': p_mint_tokens\n",
    "        },\n",
    "        # update token count and community treasury\n",
    "        'variables': {\n",
    "            'tokens': s_update_token_count,\n",
    "            'community_treasury': s_update_community_treasury\n",
    "        }\n",
    "    },\n",
    "    {\n",
    "        # do work\n",
    "        'policies': {\n",
    "            'impact': p_do_work\n",
    "        },\n",
    "        # recognize and reward contributors\n",
    "        'variables': {\n",
    "            'contributors': s_reward_contributions\n",
    "        }\n",
    "    }\n",
    "]"
   ]
  },
  {
   "source": [
    "## Running the cadCAD Engine"
   ],
   "cell_type": "markdown",
   "metadata": {}
  },
  {
   "cell_type": "code",
   "execution_count": 76,
   "metadata": {},
   "outputs": [],
   "source": [
    "# imported some addition utilities to help with configuration set-up\n",
    "exp = Experiment()\n",
    "c = config_sim(sim_config_dict)\n",
    "# The configurations above are then packaged into a `Configuration` object\n",
    "del configs[:]\n",
    "# dict containing variable names and initial values\n",
    "exp.append_configs(initial_state=genesis_states, \n",
    "                    # dict containing state update functions \n",
    "                    partial_state_update_blocks=partial_state_update_blocks, \n",
    "                    # preprocessed dictionaries containing simulation parameters\n",
    "                    sim_configs=c)\n"
   ]
  },
  {
   "cell_type": "code",
   "execution_count": 77,
   "metadata": {},
   "outputs": [],
   "source": [
    "%%capture\n",
    "exec_mode = ExecutionMode()\n",
    "local_mode_ctx = ExecutionContext(exec_mode.local_mode)\n",
    "\n",
    "# pass the configuration object inside an array\n",
    "simulation = Executor(exec_context=local_mode_ctx, configs=configs) \n",
    "# the `execute()` method returns a tuple; its first elements contains the raw results\n",
    "raw_system_events, tensor_field, sessions = simulation.execute() "
   ]
  },
  {
   "source": [
    "## Data Visualization\n",
    "\n",
    "This is often half the battle. Not only do need to design and build a cadCAD model, but you need to understand how it's working and be able to effectively communicate that to other people. A picture says a thousand words, thus enter data viz. Getting good at using python data viz libraries is probably the highest leverage thing you can do after you learn the cadCAD basics."
   ],
   "cell_type": "markdown",
   "metadata": {}
  },
  {
   "cell_type": "code",
   "execution_count": 78,
   "metadata": {},
   "outputs": [
    {
     "output_type": "execute_result",
     "data": {
      "text/plain": [
       "                             tokens  weekly_token_minting  community_treasury  \\\n",
       "subset run timestep substep                                                     \n",
       "0      1   0        0             1                   100                   0   \n",
       "           1        1           101                   100                 100   \n",
       "                    2           101                   100                 100   \n",
       "           2        1           201                   100                 200   \n",
       "                    2           201                   100                 200   \n",
       "...                             ...                   ...                 ...   \n",
       "       3   50       2          5001                   100                5000   \n",
       "           51       1          5101                   100                5100   \n",
       "                    2          5101                   100                5100   \n",
       "           52       1          5201                   100                5200   \n",
       "                    2          5201                   100                5200   \n",
       "\n",
       "                                       contributors  simulation  \n",
       "subset run timestep substep                                      \n",
       "0      1   0        0          {'token_balance': 0}           0  \n",
       "           1        1          {'token_balance': 0}           0  \n",
       "                    2          {'token_balance': 3}           0  \n",
       "           2        1          {'token_balance': 3}           0  \n",
       "                    2          {'token_balance': 4}           0  \n",
       "...                                             ...         ...  \n",
       "       3   50       2        {'token_balance': 283}           0  \n",
       "           51       1        {'token_balance': 283}           0  \n",
       "                    2        {'token_balance': 286}           0  \n",
       "           52       1        {'token_balance': 286}           0  \n",
       "                    2        {'token_balance': 295}           0  \n",
       "\n",
       "[315 rows x 5 columns]"
      ],
      "text/html": "<div>\n<style scoped>\n    .dataframe tbody tr th:only-of-type {\n        vertical-align: middle;\n    }\n\n    .dataframe tbody tr th {\n        vertical-align: top;\n    }\n\n    .dataframe thead th {\n        text-align: right;\n    }\n</style>\n<table border=\"1\" class=\"dataframe\">\n  <thead>\n    <tr style=\"text-align: right;\">\n      <th></th>\n      <th></th>\n      <th></th>\n      <th></th>\n      <th>tokens</th>\n      <th>weekly_token_minting</th>\n      <th>community_treasury</th>\n      <th>contributors</th>\n      <th>simulation</th>\n    </tr>\n    <tr>\n      <th>subset</th>\n      <th>run</th>\n      <th>timestep</th>\n      <th>substep</th>\n      <th></th>\n      <th></th>\n      <th></th>\n      <th></th>\n      <th></th>\n    </tr>\n  </thead>\n  <tbody>\n    <tr>\n      <th rowspan=\"11\" valign=\"top\">0</th>\n      <th rowspan=\"5\" valign=\"top\">1</th>\n      <th>0</th>\n      <th>0</th>\n      <td>1</td>\n      <td>100</td>\n      <td>0</td>\n      <td>{'token_balance': 0}</td>\n      <td>0</td>\n    </tr>\n    <tr>\n      <th rowspan=\"2\" valign=\"top\">1</th>\n      <th>1</th>\n      <td>101</td>\n      <td>100</td>\n      <td>100</td>\n      <td>{'token_balance': 0}</td>\n      <td>0</td>\n    </tr>\n    <tr>\n      <th>2</th>\n      <td>101</td>\n      <td>100</td>\n      <td>100</td>\n      <td>{'token_balance': 3}</td>\n      <td>0</td>\n    </tr>\n    <tr>\n      <th rowspan=\"2\" valign=\"top\">2</th>\n      <th>1</th>\n      <td>201</td>\n      <td>100</td>\n      <td>200</td>\n      <td>{'token_balance': 3}</td>\n      <td>0</td>\n    </tr>\n    <tr>\n      <th>2</th>\n      <td>201</td>\n      <td>100</td>\n      <td>200</td>\n      <td>{'token_balance': 4}</td>\n      <td>0</td>\n    </tr>\n    <tr>\n      <th>...</th>\n      <th>...</th>\n      <th>...</th>\n      <td>...</td>\n      <td>...</td>\n      <td>...</td>\n      <td>...</td>\n      <td>...</td>\n    </tr>\n    <tr>\n      <th rowspan=\"5\" valign=\"top\">3</th>\n      <th>50</th>\n      <th>2</th>\n      <td>5001</td>\n      <td>100</td>\n      <td>5000</td>\n      <td>{'token_balance': 283}</td>\n      <td>0</td>\n    </tr>\n    <tr>\n      <th rowspan=\"2\" valign=\"top\">51</th>\n      <th>1</th>\n      <td>5101</td>\n      <td>100</td>\n      <td>5100</td>\n      <td>{'token_balance': 283}</td>\n      <td>0</td>\n    </tr>\n    <tr>\n      <th>2</th>\n      <td>5101</td>\n      <td>100</td>\n      <td>5100</td>\n      <td>{'token_balance': 286}</td>\n      <td>0</td>\n    </tr>\n    <tr>\n      <th rowspan=\"2\" valign=\"top\">52</th>\n      <th>1</th>\n      <td>5201</td>\n      <td>100</td>\n      <td>5200</td>\n      <td>{'token_balance': 286}</td>\n      <td>0</td>\n    </tr>\n    <tr>\n      <th>2</th>\n      <td>5201</td>\n      <td>100</td>\n      <td>5200</td>\n      <td>{'token_balance': 295}</td>\n      <td>0</td>\n    </tr>\n  </tbody>\n</table>\n<p>315 rows × 5 columns</p>\n</div>"
     },
     "metadata": {},
     "execution_count": 78
    }
   ],
   "source": [
    "%matplotlib inline\n",
    "import pandas as pd\n",
    "simulation_result = pd.DataFrame(raw_system_events)\n",
    "simulation_result.set_index(['subset', 'run', 'timestep', 'substep'])"
   ]
  },
  {
   "source": [
    "simulation_result.plot('timestep', ['tokens', 'community_treasury'], grid=True, \n",
    "        colormap = 'gist_rainbow',\n",
    "        xticks=list(simulation_result['timestep'].drop_duplicates()), \n",
    "        yticks=list(range(1+(simulation_result['tokens']+simulation_result['community_treasury']).max())))"
   ],
   "cell_type": "markdown",
   "metadata": {}
  },
  {
   "cell_type": "code",
   "execution_count": null,
   "metadata": {},
   "outputs": [],
   "source": []
  }
 ]
}