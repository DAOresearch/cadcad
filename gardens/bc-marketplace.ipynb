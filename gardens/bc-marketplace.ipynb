{
 "metadata": {
  "language_info": {
   "codemirror_mode": {
    "name": "ipython",
    "version": 3
   },
   "file_extension": ".py",
   "mimetype": "text/x-python",
   "name": "python",
   "nbconvert_exporter": "python",
   "pygments_lexer": "ipython3",
   "version": "3.8.6-final"
  },
  "orig_nbformat": 2,
  "kernelspec": {
   "name": "python3",
   "display_name": "Python 3",
   "language": "python"
  }
 },
 "nbformat": 4,
 "nbformat_minor": 2,
 "cells": [
  {
   "source": [
    "# Gardens Marketplace"
   ],
   "cell_type": "markdown",
   "metadata": {}
  },
  {
   "source": [
    "Porting the [cadCAD bonding curve model](https://github.com/cadCAD-org/demos/blob/master/demos/Multiscale/bonding_curve/Bonding_Curve.ipynb) from the [Economic Games as Estimators](https://epub.wu.ac.at/7433/) paper into a Gardens cadCAD model."
   ],
   "cell_type": "markdown",
   "metadata": {}
  },
  {
   "source": [
    "## Check cadCAD\n",
    "\n",
    "This cell doesn't do anything, but it does ensure that you know what version of cadCAD you're running. That way if/when you encounter technical difficulties you can tell the community which version of cadCAD you're running. Might save you hours of pain if all you need to do is upgrade to the latest version. "
   ],
   "cell_type": "markdown",
   "metadata": {}
  },
  {
   "cell_type": "code",
   "execution_count": 23,
   "metadata": {},
   "outputs": [
    {
     "output_type": "stream",
     "name": "stdout",
     "text": [
      "Name: cadCAD\n",
      "Version: 0.4.23\n",
      "Summary: cadCAD: a differential games based simulation software package for research, validation, and         Computer Aided Design of economic systems\n",
      "Home-page: https://github.com/cadCAD-org/cadCAD\n",
      "Author: Joshua E. Jodesty\n",
      "Author-email: joshua@block.science\n",
      "License: LICENSE.txt\n",
      "Location: /usr/local/lib/python3.8/site-packages\n",
      "Requires: pandas, fn, pathos, funcy\n",
      "Required-by: cadCAD-diagram\n",
      "Note: you may need to restart the kernel to use updated packages.\n"
     ]
    }
   ],
   "source": [
    "%pip show cadCAD"
   ]
  },
  {
   "source": [
    "## Import Stuff\n",
    "\n",
    "These are the libraries you'll need (cadCAD stuff) and that could be useful (python stuff) for your cadCAD model.\n",
    "\n",
    "We're using [cadCAD Diagram](https://github.com/cadCAD-org/cadCAD_diagram), which is separate from cadCAD. If you're using the VS Code container from this repo it's already installed, but otherwise you might need to instal it."
   ],
   "cell_type": "markdown",
   "metadata": {}
  },
  {
   "cell_type": "code",
   "execution_count": 24,
   "metadata": {},
   "outputs": [],
   "source": [
    "# Python\n",
    "import numpy as np\n",
    "import random as random\n",
    "\n",
    "# cadCAD\n",
    "from cadCAD.configuration.utils import config_sim\n",
    "from cadCAD.configuration import Experiment\n",
    "from cadCAD import configs\n",
    "from cadCAD.engine import ExecutionMode, ExecutionContext\n",
    "from cadCAD.engine import Executor\n",
    "from cadCAD_diagram import diagram_from_config\n",
    "\n",
    "# Notebook setup\n",
    "experiment = Experiment()\n",
    "del configs[:]\n",
    "\n",
    "# Stuff\n",
    "from datetime import datetime\n",
    "import matplotlib.pyplot as plt\n",
    "import pandas as pd"
   ]
  },
  {
   "source": [
    "## Utility Functions"
   ],
   "cell_type": "markdown",
   "metadata": {}
  },
  {
   "cell_type": "code",
   "execution_count": 25,
   "metadata": {},
   "outputs": [],
   "source": [
    "default_kappa= 2\n",
    "default_exit_tax = .02\n",
    "\n",
    "#value function for a given state (R,S)\n",
    "def invariant(R,S,kappa=default_kappa):\n",
    "    return (S**kappa)/R\n",
    "\n",
    "#given a value function (parameterized by kappa)\n",
    "#and an invariant coeficient V0\n",
    "#return Supply S as a function of reserve R\n",
    "def reserve(S, V0, kappa=default_kappa):\n",
    "    return (S**kappa)/V0\n",
    "\n",
    "#given a value function (parameterized by kappa)\n",
    "#and an invariant coeficient V0\n",
    "#return Supply S as a function of reserve R\n",
    "def supply(R, V0, kappa=default_kappa):\n",
    "    return (V0*R)**(1/kappa)\n",
    "\n",
    "#given a value function (parameterized by kappa)\n",
    "#and an invariant coeficient V0\n",
    "#return a spot price P as a function of reserve R\n",
    "def spot_price(R, V0, kappa=default_kappa):\n",
    "    return kappa*R**((kappa-1)/kappa)/V0**(1/kappa)\n",
    "\n",
    "#for a given state (R,S)\n",
    "#given a value function (parameterized by kappa)\n",
    "#and an invariant coeficient V0\n",
    "#deposit deltaR to Mint deltaS\n",
    "#with realized price deltaR/deltaS\n",
    "def mint(deltaR, R,S, V0, kappa=default_kappa):\n",
    "    deltaS = (V0*(R+deltaR))**(1/kappa)-S\n",
    "    if deltaS ==0:\n",
    "        realized_price = spot_price(R+deltaR, V0, kappa)\n",
    "    else:\n",
    "        realized_price = deltaR/deltaS\n",
    "    return deltaS, realized_price\n",
    "\n",
    "#for a given state (R,S)\n",
    "#given a value function (parameterized by kappa)\n",
    "#and an invariant coeficient V0\n",
    "#burn deltaS to Withdraw deltaR\n",
    "#with realized price deltaR/deltaS\n",
    "def withdraw(deltaS, R,S, V0, kappa=default_kappa):\n",
    "    deltaR = R-((S-deltaS)**kappa)/V0\n",
    "    if deltaS ==0:\n",
    "        realized_price = spot_price(R+deltaR, V0, kappa)\n",
    "    else:\n",
    "        realized_price = deltaR/deltaS\n",
    "    return deltaR, realized_price\n",
    "\n",
    "def withdraw_with_tax(deltaS, R,S, V0, exit_tax = default_exit_tax, kappa=default_kappa):\n",
    "    deltaR = R-((S-deltaS)**kappa)/V0\n",
    "    #print(deltaR)\n",
    "    quantity_taxed = exit_tax*deltaR\n",
    "    quantity_recieved = (1-exit_tax)*deltaR\n",
    "\n",
    "    realized_price = quantity_recieved/deltaS\n",
    "\n",
    "    return quantity_recieved, quantity_taxed, realized_price\n",
    "\n",
    "def response_plot(rdf, title):\n",
    "    plt.subplots(figsize=(10,6))\n",
    "    ax1=plt.subplot(2,1,1)\n",
    "    rdf[[\"spot_price\",\"price\"]].plot(ax=ax1)\n",
    "    plt.legend([\"spot price (output: $P_t$)\", \"price sample (input: $\\hat P_t$)\" ])\n",
    "    plt.ylabel(\"Price, $\\hat P_t$, $P_t$\")\n",
    "    plt.title(title+\" Response Dynamics\")\n",
    "    ax2=plt.subplot(2,1,2)\n",
    "    rdf[[\"abs_err\"]].plot(ax=ax2,logy=True, color='green')\n",
    "    plt.legend([\"$Error: |P_t-\\hat P_t|$\" ])\n",
    "    plt.xlabel(\"transaction count (time)\")\n",
    "    plt.ylabel(\"Absolute Value of Estimation Error\")\n",
    "    plt.show()\n"
   ]
  },
  {
   "source": [
    "## Initial Params\n",
    "\n",
    "These are the parameters that control the behavior of a system. For example, if you were modeling a Web3 protocol these would be the parameters within a system that token holders could vote to modify. All of the parameters of a protocol that can be modified should be accessible here. That way it's easy to modify and run similations to explore how parameter changes might affect the network."
   ],
   "cell_type": "markdown",
   "metadata": {}
  },
  {
   "cell_type": "code",
   "execution_count": 26,
   "metadata": {},
   "outputs": [],
   "source": [
    "hatch_raise = 100000 # fiat units\n",
    "hatch_price = .1 #fiat per tokens\n",
    "theta = .5 #share of funds going to funding pool at launch\n",
    "\n",
    "R0 = hatch_raise*(1-theta) # initial reserve\n",
    "S0 = hatch_raise/hatch_price # initial supply\n",
    "\n",
    "kappa = 2 # bonding curvature parameter\n",
    "V0 = invariant(R0,S0,kappa)\n",
    "P0 = spot_price(R0, V0, kappa)\n",
    "\n",
    "initial_conditions = {\n",
    "    'R0':R0,\n",
    "    'S0':S0,\n",
    "    'V0':V0,\n",
    "    'P0':P0\n",
    "}\n",
    "\n",
    "sys_params = {\n",
    "    'kappa': [kappa],\n",
    "    'invariant': [V0],\n",
    "    'dust' : [10**-8],\n",
    "    'rule' : ['martin' for r in range(10)],\n",
    "    'dP' : ['N/A' for r in range(10)],\n",
    "    'sigma': [.1*(.5**(r+1)) for r in range(10)],\n",
    "    'period': ['N/A' for r in range(10)],\n",
    "    'phi': [0], #phi for exiting funds\n",
    "    'beta': [0.9], #beta is param for armijo rule\n",
    "}\n"
   ]
  },
  {
   "cell_type": "code",
   "execution_count": 27,
   "metadata": {},
   "outputs": [],
   "source": [
    "# Genesis States\n",
    "genesis_states = {\n",
    "    'supply': initial_conditions['S0'],\n",
    "    'price': initial_conditions['P0'],\n",
    "    'reserve': initial_conditions['R0'],\n",
    "    'spot_price': initial_conditions['P0'],\n",
    "    'output_price': initial_conditions['P0'],\n",
    "}\n",
    "\n",
    "# The parameters to run the model\n",
    "params = {\n",
    "    'M': sys_params, # system parameters\n",
    "    'T': range(4000), # number of timesteps\n",
    "    'N': 10 # number of monte carlo runs\n",
    "}"
   ]
  },
  {
   "source": [
    "## Policy Functions\n",
    "\n",
    "Policy functions are like flows in stock and flow diagrams. They modify the inputs to state update functions."
   ],
   "cell_type": "markdown",
   "metadata": {}
  },
  {
   "cell_type": "code",
   "execution_count": 28,
   "metadata": {},
   "outputs": [],
   "source": [
    "# Behaviors\n",
    "def set_action(params, step, sL, s):\n",
    "\n",
    "    R = s['reserve']\n",
    "    S = s['supply']\n",
    "    V0 = params['invariant']\n",
    "    P=s['spot_price']\n",
    "    period = params['period']\n",
    "\n",
    "    if params['rule'] == 'step':\n",
    "        bump = int((s['timestep'] % int(period/2) == 0))*int(s['timestep']>0)\n",
    "        sign = -(-1)**int((2*s['timestep']/period))\n",
    "        new_price = s['price'] + params['dP']*bump*sign\n",
    "    elif params['rule'] == 'ramp':\n",
    "        sign = (-1)**int((2*s['timestep']/period))\n",
    "        new_price = s['price'] + params['dP']*sign\n",
    "    elif params['rule'] == 'sin':\n",
    "        new_price = P + params['dP']*np.sin(2*np.pi*s['timestep']/period)\n",
    "    elif params['rule']=='martin' :\n",
    "        rv = np.random.normal(0, params['sigma'])\n",
    "        new_price = s['price']+s['price']*rv\n",
    "    else :\n",
    "        new_price = s['price']\n",
    "\n",
    "    if P>new_price:\n",
    "        mech = 'burn'\n",
    "\n",
    "        #approx for burn s.t. p=phat\n",
    "        #armijo style\n",
    "        amt = S*(1-params['dust'])\n",
    "\n",
    "        def pbar(amt):\n",
    "            output = withdraw(amt, R,S, V0, params['kappa'])\n",
    "\n",
    "            if not(output[1])>0:\n",
    "                return np.Infinity\n",
    "            elif amt==0:\n",
    "                return P\n",
    "            else:\n",
    "                return output[1]\n",
    "\n",
    "        if amt > params['dust']:\n",
    "            while pbar(amt)< new_price:\n",
    "                amt = amt*params['beta']\n",
    "\n",
    "    else:\n",
    "        mech = 'bond'\n",
    "        #approx for buy s.t. p=phat\n",
    "        #armijo style\n",
    "        amt = R*(1-params['dust'])\n",
    "\n",
    "        def pbar(amt):\n",
    "            output = mint(amt, R,S, V0, params['kappa'])\n",
    "\n",
    "            if not(output[1])>0:\n",
    "                return 0\n",
    "            elif amt==0:\n",
    "                return P\n",
    "            else:\n",
    "                return output[1]\n",
    "\n",
    "        if amt > params['dust']:\n",
    "            while pbar(amt)> new_price:\n",
    "                amt = amt*params['beta']\n",
    "\n",
    "    action = {'mech':mech, 'amt':amt,'pin':new_price ,'pbar':pbar(amt),'posterior':{}}\n",
    "\n",
    "    if action['mech'] == 'bond':\n",
    "        dS, pbar = mint(amt, R,S, V0, params['kappa'])\n",
    "        R = R+amt\n",
    "        S = S+dS\n",
    "        P = spot_price(R, V0, params['kappa'])\n",
    "\n",
    "    elif action['mech'] == 'burn':\n",
    "        dR, pbar = withdraw(amt, R,S, V0, params['kappa'])\n",
    "        R = R-dR\n",
    "        S = S-amt\n",
    "        P = spot_price(R, V0, params['kappa'])\n",
    "\n",
    "    action['posterior'] = {'S':S, 'R':R,'P':P}\n",
    "\n",
    "    return {'action': action}\n",
    "\n"
   ]
  },
  {
   "source": [
    "## State Update Functions\n",
    "\n",
    "These functions take in inputs (state variables and policies) and modify the state."
   ],
   "cell_type": "markdown",
   "metadata": {}
  },
  {
   "cell_type": "code",
   "execution_count": 29,
   "metadata": {},
   "outputs": [],
   "source": [
    "# Mechanisms\n",
    "def update_S(params, step, sL, s, _input):\n",
    "\n",
    "    action = _input['action']\n",
    "    S = action['posterior']['S']\n",
    "\n",
    "    key = 'supply'\n",
    "    value = S\n",
    "\n",
    "    return (key, value)\n",
    "\n",
    "def update_R(params, step, sL, s, _input):\n",
    "\n",
    "    action = _input['action']\n",
    "    R = action['posterior']['R']\n",
    "\n",
    "    key = 'reserve'\n",
    "    value = R\n",
    "\n",
    "    return (key, value)\n",
    "\n",
    "def update_P(params, step, sL, s, _input):\n",
    "\n",
    "    action = _input['action']\n",
    "    P = action['posterior']['P']\n",
    "\n",
    "    key = 'spot_price'\n",
    "    value = P\n",
    "\n",
    "    return (key, value)\n",
    "\n",
    "def update_Pbar(params, step, sL, s, _input):\n",
    "\n",
    "    action = _input['action']\n",
    "    pbar = action['pbar']\n",
    "\n",
    "    key = 'output_price'\n",
    "    value = pbar\n",
    "\n",
    "    return (key, value)\n",
    "\n",
    "def capture_Pin(params, step, sL, s, _input):\n",
    "\n",
    "    Pin = _input['action']['pin']\n",
    "    if Pin== 0:\n",
    "        print(_input['action'])\n",
    "    key = 'price'\n",
    "    value = Pin\n",
    "\n",
    "    return (key, value)\n"
   ]
  },
  {
   "source": [
    "## State Update Block\n",
    "\n",
    "If you're approaching cadCAD from Web3 you can think of the state of the model as something that evolves in blocks. Each block has a set of actions that updates the state. Those transactions then get batched into blocks to be processed together. In cadCAD blocks are called \"`partial_state_update_blocks`.\" As you can see below, this is an array that is very similar to a \"block\" in a blockchain in that it represents a set of actions to update the state. That state is then updated across many timesteps. This is similar to how the state of a blockchain is updated over many timesteps as new blocks are added.\n",
    "\n"
   ],
   "cell_type": "markdown",
   "metadata": {}
  },
  {
   "cell_type": "code",
   "execution_count": 30,
   "metadata": {},
   "outputs": [],
   "source": [
    "partial_state_update_blocks = [\n",
    "    {\n",
    "      # system.py\n",
    "      'policies': {\n",
    "          'act': set_action,\n",
    "        },\n",
    "        'variables': {\n",
    "            'supply': update_S,\n",
    "            'reserve': update_R,\n",
    "            'spot_price': update_P,\n",
    "            'output_price': update_Pbar,\n",
    "            'price': capture_Pin,\n",
    "        }\n",
    "    }\n",
    "]"
   ]
  },
  {
   "source": [
    "## Running the cadCAD Engine"
   ],
   "cell_type": "markdown",
   "metadata": {}
  },
  {
   "cell_type": "code",
   "execution_count": 31,
   "metadata": {},
   "outputs": [
    {
     "output_type": "stream",
     "name": "stdout",
     "text": [
      "\n",
      "                  ___________    ____\n",
      "  ________ __ ___/ / ____/   |  / __ \\\n",
      " / ___/ __` / __  / /   / /| | / / / /\n",
      "/ /__/ /_/ / /_/ / /___/ ___ |/ /_/ /\n",
      "\\___/\\__,_/\\__,_/\\____/_/  |_/_____/\n",
      "by cadCAD\n",
      "\n",
      "Execution Mode: local_proc\n",
      "Configuration Count: 10\n",
      "Dimensions of the first simulation: (Timesteps, Params, Runs, Vars) = (4000, 9, 10, 5)\n",
      "Execution Method: local_simulations\n",
      "SimIDs   : [0, 0, 0, 0, 0, 0, 0, 0, 0, 0, 1, 1, 1, 1, 1, 1, 1, 1, 1, 1, 2, 2, 2, 2, 2, 2, 2, 2, 2, 2, 3, 3, 3, 3, 3, 3, 3, 3, 3, 3, 4, 4, 4, 4, 4, 4, 4, 4, 4, 4, 5, 5, 5, 5, 5, 5, 5, 5, 5, 5, 6, 6, 6, 6, 6, 6, 6, 6, 6, 6, 7, 7, 7, 7, 7, 7, 7, 7, 7, 7, 8, 8, 8, 8, 8, 8, 8, 8, 8, 8, 9, 9, 9, 9, 9, 9, 9, 9, 9, 9]\n",
      "SubsetIDs: [0, 0, 0, 0, 0, 0, 0, 0, 0, 0, 1, 1, 1, 1, 1, 1, 1, 1, 1, 1, 2, 2, 2, 2, 2, 2, 2, 2, 2, 2, 3, 3, 3, 3, 3, 3, 3, 3, 3, 3, 4, 4, 4, 4, 4, 4, 4, 4, 4, 4, 5, 5, 5, 5, 5, 5, 5, 5, 5, 5, 6, 6, 6, 6, 6, 6, 6, 6, 6, 6, 7, 7, 7, 7, 7, 7, 7, 7, 7, 7, 8, 8, 8, 8, 8, 8, 8, 8, 8, 8, 9, 9, 9, 9, 9, 9, 9, 9, 9, 9]\n",
      "Ns       : [0, 1, 2, 3, 4, 5, 6, 7, 8, 9, 0, 1, 2, 3, 4, 5, 6, 7, 8, 9, 0, 1, 2, 3, 4, 5, 6, 7, 8, 9, 0, 1, 2, 3, 4, 5, 6, 7, 8, 9, 0, 1, 2, 3, 4, 5, 6, 7, 8, 9, 0, 1, 2, 3, 4, 5, 6, 7, 8, 9, 0, 1, 2, 3, 4, 5, 6, 7, 8, 9, 0, 1, 2, 3, 4, 5, 6, 7, 8, 9, 0, 1, 2, 3, 4, 5, 6, 7, 8, 9, 0, 1, 2, 3, 4, 5, 6, 7, 8, 9]\n",
      "ExpIDs   : [0, 0, 0, 0, 0, 0, 0, 0, 0, 0, 0, 0, 0, 0, 0, 0, 0, 0, 0, 0, 0, 0, 0, 0, 0, 0, 0, 0, 0, 0, 0, 0, 0, 0, 0, 0, 0, 0, 0, 0, 0, 0, 0, 0, 0, 0, 0, 0, 0, 0, 0, 0, 0, 0, 0, 0, 0, 0, 0, 0, 0, 0, 0, 0, 0, 0, 0, 0, 0, 0, 0, 0, 0, 0, 0, 0, 0, 0, 0, 0, 0, 0, 0, 0, 0, 0, 0, 0, 0, 0, 0, 0, 0, 0, 0, 0, 0, 0, 0, 0]\n",
      "Execution Mode: parallelized\n",
      "Total execution time: 34.54s\n"
     ]
    }
   ],
   "source": [
    "experiment.append_configs(\n",
    "    initial_state = genesis_states,\n",
    "    partial_state_update_blocks = partial_state_update_blocks,\n",
    "    sim_configs = config_sim(params)\n",
    ")\n",
    "\n",
    "exec_mode = ExecutionMode()\n",
    "exec_context = ExecutionContext()\n",
    "\n",
    "simulation = Executor(exec_context=exec_context, configs=configs) \n",
    "raw_system_events, tensor_field, sessions = simulation.execute() "
   ]
  },
  {
   "source": [
    "## Data Visualization\n",
    "\n",
    "This is often half the battle. Not only do need to design and build a cadCAD model, but you need to understand how it's working and be able to effectively communicate that to other people. A picture says a thousand words, thus enter data viz. Getting good at using python data viz libraries is probably the highest leverage thing you can do after you learn the cadCAD basics."
   ],
   "cell_type": "markdown",
   "metadata": {}
  },
  {
   "cell_type": "code",
   "execution_count": 32,
   "metadata": {},
   "outputs": [
    {
     "output_type": "execute_result",
     "data": {
      "text/plain": [
       "<graphviz.dot.Digraph at 0x7f6b43ee37c0>"
      ],
      "image/svg+xml": "<?xml version=\"1.0\" encoding=\"UTF-8\" standalone=\"no\"?>\n<!DOCTYPE svg PUBLIC \"-//W3C//DTD SVG 1.1//EN\"\n \"http://www.w3.org/Graphics/SVG/1.1/DTD/svg11.dtd\">\n<!-- Generated by graphviz version 2.40.1 (20161225.0304)\n -->\n<!-- Title: cluster_timestep Pages: 1 -->\n<svg width=\"546pt\" height=\"866pt\"\n viewBox=\"0.00 0.00 786.81 1247.00\" xmlns=\"http://www.w3.org/2000/svg\" xmlns:xlink=\"http://www.w3.org/1999/xlink\">\n<g id=\"graph0\" class=\"graph\" transform=\"scale(.6944 .6944) rotate(0) translate(4 1243)\">\n<title>cluster_timestep</title>\n<polygon fill=\"#ffc0cb\" stroke=\"transparent\" points=\"-4,4 -4,-1243 782.8057,-1243 782.8057,4 -4,4\"/>\n<g id=\"clust1\" class=\"cluster\">\n<title>cluster_psub_0</title>\n<polygon fill=\"#d8bfd8\" stroke=\"#000000\" stroke-dasharray=\"5,2\" points=\"8,-8 8,-1231 770.8057,-1231 770.8057,-8 8,-8\"/>\n<text text-anchor=\"middle\" x=\"389.4028\" y=\"-1215.8\" font-family=\"Times,serif\" font-size=\"14.00\" fill=\"#000000\">Partial State Update Block #0</text>\n</g>\n<g id=\"clust2\" class=\"cluster\">\n<title>cluster_params_0</title>\n<polygon fill=\"#87ceeb\" stroke=\"#000000\" stroke-dasharray=\"5,2\" points=\"37,-747 37,-1200 181,-1200 181,-747 37,-747\"/>\n<text text-anchor=\"middle\" x=\"109\" y=\"-1184.8\" font-family=\"Times,serif\" font-size=\"14.00\" fill=\"#000000\">Parameters</text>\n</g>\n<g id=\"clust3\" class=\"cluster\">\n<title>cluster_variables_0</title>\n<polygon fill=\"#87ceeb\" stroke=\"#000000\" stroke-dasharray=\"5,2\" points=\"16,-16 16,-739 202,-739 202,-16 16,-16\"/>\n<text text-anchor=\"middle\" x=\"109\" y=\"-723.8\" font-family=\"Times,serif\" font-size=\"14.00\" fill=\"#000000\">State</text>\n</g>\n<g id=\"clust4\" class=\"cluster\">\n<title>cluster_policy_0</title>\n<polygon fill=\"#d8bfd8\" stroke=\"#000000\" stroke-dasharray=\"5,2\" points=\"222,-519 222,-668 512.8057,-668 512.8057,-519 222,-519\"/>\n<text text-anchor=\"middle\" x=\"367.4028\" y=\"-652.8\" font-family=\"Times,serif\" font-size=\"14.00\" fill=\"#000000\">Policies</text>\n</g>\n<g id=\"clust5\" class=\"cluster\">\n<title>cluster_suf_0</title>\n<polygon fill=\"#d8bfd8\" stroke=\"#000000\" stroke-dasharray=\"5,2\" points=\"532.8057,-358 532.8057,-829 762.8057,-829 762.8057,-358 532.8057,-358\"/>\n<text text-anchor=\"middle\" x=\"647.8057\" y=\"-813.8\" font-family=\"Times,serif\" font-size=\"14.00\" fill=\"#000000\">State Update Functions</text>\n</g>\n<!-- param_invariant_0 -->\n<g id=\"node1\" class=\"node\">\n<title>param_invariant_0</title>\n<path fill=\"#f0fff0\" stroke=\"#000000\" d=\"M173,-1165.7273C173,-1167.5331 144.3142,-1169 109,-1169 73.6858,-1169 45,-1167.5331 45,-1165.7273 45,-1165.7273 45,-1136.2727 45,-1136.2727 45,-1134.4669 73.6858,-1133 109,-1133 144.3142,-1133 173,-1134.4669 173,-1136.2727 173,-1136.2727 173,-1165.7273 173,-1165.7273\"/>\n<path fill=\"none\" stroke=\"#000000\" d=\"M173,-1165.7273C173,-1163.9214 144.3142,-1162.4545 109,-1162.4545 73.6858,-1162.4545 45,-1163.9214 45,-1165.7273\"/>\n<text text-anchor=\"middle\" x=\"109\" y=\"-1147.3\" font-family=\"Times,serif\" font-size=\"14.00\" fill=\"#000000\">invariant (float)</text>\n</g>\n<!-- policy_act_0 -->\n<g id=\"node22\" class=\"node\">\n<title>policy_act_0</title>\n<polygon fill=\"#98fb98\" stroke=\"#000000\" stroke-width=\"2\" points=\"346,-612 230,-612 230,-552 346,-552 358,-582 346,-612\"/>\n<text text-anchor=\"middle\" x=\"294\" y=\"-578.3\" font-family=\"Times,serif\" font-size=\"14.00\" fill=\"#000000\">act (set_action)</text>\n</g>\n<!-- param_invariant_0&#45;&gt;policy_act_0 -->\n<g id=\"edge2\" class=\"edge\">\n<title>param_invariant_0&#45;&gt;policy_act_0</title>\n<path fill=\"none\" stroke=\"#000000\" d=\"M173.0149,-1142.6872C183.9647,-1138.611 194.2795,-1132.6585 202,-1124 267.2808,-1050.7876 287.0416,-745.729 292.2951,-628.3281\"/>\n<polygon fill=\"#000000\" stroke=\"#000000\" points=\"295.7967,-628.3644 292.7319,-618.2226 288.8032,-628.062 295.7967,-628.3644\"/>\n</g>\n<!-- param_kappa_0 -->\n<g id=\"node2\" class=\"node\">\n<title>param_kappa_0</title>\n<path fill=\"#f0fff0\" stroke=\"#000000\" d=\"M156.5,-1111.7273C156.5,-1113.5331 135.2097,-1115 109,-1115 82.7903,-1115 61.5,-1113.5331 61.5,-1111.7273 61.5,-1111.7273 61.5,-1082.2727 61.5,-1082.2727 61.5,-1080.4669 82.7903,-1079 109,-1079 135.2097,-1079 156.5,-1080.4669 156.5,-1082.2727 156.5,-1082.2727 156.5,-1111.7273 156.5,-1111.7273\"/>\n<path fill=\"none\" stroke=\"#000000\" d=\"M156.5,-1111.7273C156.5,-1109.9214 135.2097,-1108.4545 109,-1108.4545 82.7903,-1108.4545 61.5,-1109.9214 61.5,-1111.7273\"/>\n<text text-anchor=\"middle\" x=\"109\" y=\"-1093.3\" font-family=\"Times,serif\" font-size=\"14.00\" fill=\"#000000\">kappa (int)</text>\n</g>\n<!-- param_kappa_0&#45;&gt;policy_act_0 -->\n<g id=\"edge3\" class=\"edge\">\n<title>param_kappa_0&#45;&gt;policy_act_0</title>\n<path fill=\"none\" stroke=\"#000000\" d=\"M156.957,-1093.2255C173.3654,-1089.5601 190.4712,-1082.6951 202,-1070 260.7464,-1005.3107 284.1422,-737.0877 291.3369,-628.2238\"/>\n<polygon fill=\"#000000\" stroke=\"#000000\" points=\"294.8326,-628.4028 291.9832,-618.1983 287.8471,-627.9524 294.8326,-628.4028\"/>\n</g>\n<!-- param_beta_0 -->\n<g id=\"node3\" class=\"node\">\n<title>param_beta_0</title>\n<path fill=\"#f0fff0\" stroke=\"#000000\" d=\"M156.5,-1057.7273C156.5,-1059.5331 135.2097,-1061 109,-1061 82.7903,-1061 61.5,-1059.5331 61.5,-1057.7273 61.5,-1057.7273 61.5,-1028.2727 61.5,-1028.2727 61.5,-1026.4669 82.7903,-1025 109,-1025 135.2097,-1025 156.5,-1026.4669 156.5,-1028.2727 156.5,-1028.2727 156.5,-1057.7273 156.5,-1057.7273\"/>\n<path fill=\"none\" stroke=\"#000000\" d=\"M156.5,-1057.7273C156.5,-1055.9214 135.2097,-1054.4545 109,-1054.4545 82.7903,-1054.4545 61.5,-1055.9214 61.5,-1057.7273\"/>\n<text text-anchor=\"middle\" x=\"109\" y=\"-1039.3\" font-family=\"Times,serif\" font-size=\"14.00\" fill=\"#000000\">beta (float)</text>\n</g>\n<!-- param_beta_0&#45;&gt;policy_act_0 -->\n<g id=\"edge4\" class=\"edge\">\n<title>param_beta_0&#45;&gt;policy_act_0</title>\n<path fill=\"none\" stroke=\"#000000\" d=\"M156.8024,-1039.0835C173.1941,-1035.4028 190.3288,-1028.5643 202,-1016 254.2104,-959.7945 280.8725,-728.2802 290.1334,-628.3134\"/>\n<polygon fill=\"#000000\" stroke=\"#000000\" points=\"293.6323,-628.4837 291.0516,-618.2079 286.661,-627.8502 293.6323,-628.4837\"/>\n</g>\n<!-- param_period_0 -->\n<g id=\"node4\" class=\"node\">\n<title>param_period_0</title>\n<path fill=\"#f0fff0\" stroke=\"#000000\" d=\"M158,-1003.7273C158,-1005.5331 136.0374,-1007 109,-1007 81.9626,-1007 60,-1005.5331 60,-1003.7273 60,-1003.7273 60,-974.2727 60,-974.2727 60,-972.4669 81.9626,-971 109,-971 136.0374,-971 158,-972.4669 158,-974.2727 158,-974.2727 158,-1003.7273 158,-1003.7273\"/>\n<path fill=\"none\" stroke=\"#000000\" d=\"M158,-1003.7273C158,-1001.9214 136.0374,-1000.4545 109,-1000.4545 81.9626,-1000.4545 60,-1001.9214 60,-1003.7273\"/>\n<text text-anchor=\"middle\" x=\"109\" y=\"-985.3\" font-family=\"Times,serif\" font-size=\"14.00\" fill=\"#000000\">period (str)</text>\n</g>\n<!-- param_period_0&#45;&gt;policy_act_0 -->\n<g id=\"edge5\" class=\"edge\">\n<title>param_period_0&#45;&gt;policy_act_0</title>\n<path fill=\"none\" stroke=\"#000000\" d=\"M158.0548,-984.566C173.9844,-980.795 190.4985,-974.0313 202,-962 247.785,-914.1059 277.2422,-718.2666 288.648,-627.9821\"/>\n<polygon fill=\"#000000\" stroke=\"#000000\" points=\"292.125,-628.384 289.8862,-618.0284 285.1785,-627.5198 292.125,-628.384\"/>\n</g>\n<!-- param_rule_0 -->\n<g id=\"node5\" class=\"node\">\n<title>param_rule_0</title>\n<path fill=\"#f0fff0\" stroke=\"#000000\" d=\"M149,-949.7273C149,-951.5331 131.0714,-953 109,-953 86.9286,-953 69,-951.5331 69,-949.7273 69,-949.7273 69,-920.2727 69,-920.2727 69,-918.4669 86.9286,-917 109,-917 131.0714,-917 149,-918.4669 149,-920.2727 149,-920.2727 149,-949.7273 149,-949.7273\"/>\n<path fill=\"none\" stroke=\"#000000\" d=\"M149,-949.7273C149,-947.9214 131.0714,-946.4545 109,-946.4545 86.9286,-946.4545 69,-947.9214 69,-949.7273\"/>\n<text text-anchor=\"middle\" x=\"109\" y=\"-931.3\" font-family=\"Times,serif\" font-size=\"14.00\" fill=\"#000000\">rule (str)</text>\n</g>\n<!-- param_rule_0&#45;&gt;policy_act_0 -->\n<g id=\"edge6\" class=\"edge\">\n<title>param_rule_0&#45;&gt;policy_act_0</title>\n<path fill=\"none\" stroke=\"#000000\" d=\"M149.2236,-932.1121C167.5266,-928.8008 188.143,-921.9613 202,-908 241.2506,-868.4539 272.8013,-708.8362 286.5456,-628.5692\"/>\n<polygon fill=\"#000000\" stroke=\"#000000\" points=\"290.0732,-628.699 288.2883,-618.2556 283.171,-627.5327 290.0732,-628.699\"/>\n</g>\n<!-- param_sigma_0 -->\n<g id=\"node6\" class=\"node\">\n<title>param_sigma_0</title>\n<path fill=\"#f0fff0\" stroke=\"#000000\" d=\"M162.5,-895.7273C162.5,-897.5331 138.5204,-899 109,-899 79.4796,-899 55.5,-897.5331 55.5,-895.7273 55.5,-895.7273 55.5,-866.2727 55.5,-866.2727 55.5,-864.4669 79.4796,-863 109,-863 138.5204,-863 162.5,-864.4669 162.5,-866.2727 162.5,-866.2727 162.5,-895.7273 162.5,-895.7273\"/>\n<path fill=\"none\" stroke=\"#000000\" d=\"M162.5,-895.7273C162.5,-893.9214 138.5204,-892.4545 109,-892.4545 79.4796,-892.4545 55.5,-893.9214 55.5,-895.7273\"/>\n<text text-anchor=\"middle\" x=\"109\" y=\"-877.3\" font-family=\"Times,serif\" font-size=\"14.00\" fill=\"#000000\">sigma (float)</text>\n</g>\n<!-- param_sigma_0&#45;&gt;policy_act_0 -->\n<g id=\"edge7\" class=\"edge\">\n<title>param_sigma_0&#45;&gt;policy_act_0</title>\n<path fill=\"none\" stroke=\"#000000\" d=\"M162.7795,-874.5964C176.9838,-870.6188 191.3128,-864.2311 202,-854 234.924,-822.4811 267.7539,-697.2065 283.8252,-628.1991\"/>\n<polygon fill=\"#000000\" stroke=\"#000000\" points=\"287.332,-628.5673 286.1655,-618.0368 280.5105,-626.9963 287.332,-628.5673\"/>\n</g>\n<!-- param_dust_0 -->\n<g id=\"node7\" class=\"node\">\n<title>param_dust_0</title>\n<path fill=\"#f0fff0\" stroke=\"#000000\" d=\"M156.5,-841.7273C156.5,-843.5331 135.2097,-845 109,-845 82.7903,-845 61.5,-843.5331 61.5,-841.7273 61.5,-841.7273 61.5,-812.2727 61.5,-812.2727 61.5,-810.4669 82.7903,-809 109,-809 135.2097,-809 156.5,-810.4669 156.5,-812.2727 156.5,-812.2727 156.5,-841.7273 156.5,-841.7273\"/>\n<path fill=\"none\" stroke=\"#000000\" d=\"M156.5,-841.7273C156.5,-839.9214 135.2097,-838.4545 109,-838.4545 82.7903,-838.4545 61.5,-839.9214 61.5,-841.7273\"/>\n<text text-anchor=\"middle\" x=\"109\" y=\"-823.3\" font-family=\"Times,serif\" font-size=\"14.00\" fill=\"#000000\">dust (float)</text>\n</g>\n<!-- param_dust_0&#45;&gt;policy_act_0 -->\n<g id=\"edge8\" class=\"edge\">\n<title>param_dust_0&#45;&gt;policy_act_0</title>\n<path fill=\"none\" stroke=\"#000000\" d=\"M156.5204,-821.5892C172.4997,-817.7384 189.4382,-811.1742 202,-800 252.5762,-755.0106 276.1602,-677.6182 286.5459,-628.176\"/>\n<polygon fill=\"#000000\" stroke=\"#000000\" points=\"290.0376,-628.5637 288.5668,-618.0715 283.1736,-627.1909 290.0376,-628.5637\"/>\n</g>\n<!-- param_dP_0 -->\n<g id=\"node8\" class=\"node\">\n<title>param_dP_0</title>\n<path fill=\"#f0fff0\" stroke=\"#000000\" d=\"M144.5,-787.7273C144.5,-789.5331 128.5883,-791 109,-791 89.4117,-791 73.5,-789.5331 73.5,-787.7273 73.5,-787.7273 73.5,-758.2727 73.5,-758.2727 73.5,-756.4669 89.4117,-755 109,-755 128.5883,-755 144.5,-756.4669 144.5,-758.2727 144.5,-758.2727 144.5,-787.7273 144.5,-787.7273\"/>\n<path fill=\"none\" stroke=\"#000000\" d=\"M144.5,-787.7273C144.5,-785.9214 128.5883,-784.4545 109,-784.4545 89.4117,-784.4545 73.5,-785.9214 73.5,-787.7273\"/>\n<text text-anchor=\"middle\" x=\"109\" y=\"-769.3\" font-family=\"Times,serif\" font-size=\"14.00\" fill=\"#000000\">dP (str)</text>\n</g>\n<!-- param_dP_0&#45;&gt;policy_act_0 -->\n<g id=\"edge9\" class=\"edge\">\n<title>param_dP_0&#45;&gt;policy_act_0</title>\n<path fill=\"none\" stroke=\"#000000\" d=\"M144.6515,-767.8717C163.3369,-763.7108 185.6669,-756.2579 202,-743 239.0556,-712.9212 264.0465,-663.6861 278.5191,-627.5693\"/>\n<polygon fill=\"#000000\" stroke=\"#000000\" points=\"281.7907,-628.813 282.1481,-618.2242 275.2654,-626.279 281.7907,-628.813\"/>\n</g>\n<!-- variable_supply_0 -->\n<g id=\"node9\" class=\"node\">\n<title>variable_supply_0</title>\n<path fill=\"#f0fff0\" stroke=\"#000000\" d=\"M164.5,-704.7273C164.5,-706.5331 139.624,-708 109,-708 78.376,-708 53.5,-706.5331 53.5,-704.7273 53.5,-704.7273 53.5,-675.2727 53.5,-675.2727 53.5,-673.4669 78.376,-672 109,-672 139.624,-672 164.5,-673.4669 164.5,-675.2727 164.5,-675.2727 164.5,-704.7273 164.5,-704.7273\"/>\n<path fill=\"none\" stroke=\"#000000\" d=\"M164.5,-704.7273C164.5,-702.9214 139.624,-701.4545 109,-701.4545 78.376,-701.4545 53.5,-702.9214 53.5,-704.7273\"/>\n<text text-anchor=\"middle\" x=\"109\" y=\"-686.3\" font-family=\"Times,serif\" font-size=\"14.00\" fill=\"#000000\">supply (float)</text>\n</g>\n<!-- variable_supply_0&#45;&gt;policy_act_0 -->\n<g id=\"edge10\" class=\"edge\">\n<title>variable_supply_0&#45;&gt;policy_act_0</title>\n<path fill=\"none\" stroke=\"#000000\" d=\"M164.6891,-678.148C177.382,-674.2851 190.5056,-669.3127 202,-663 220.1077,-653.0553 237.7119,-639.0049 252.5904,-625.3929\"/>\n<polygon fill=\"#000000\" stroke=\"#000000\" points=\"255.2118,-627.7328 260.1108,-618.3386 250.4227,-622.6274 255.2118,-627.7328\"/>\n</g>\n<!-- variable_price_0 -->\n<g id=\"node10\" class=\"node\">\n<title>variable_price_0</title>\n<path fill=\"#f0fff0\" stroke=\"#000000\" d=\"M159.5,-650.7273C159.5,-652.5331 136.8651,-654 109,-654 81.1349,-654 58.5,-652.5331 58.5,-650.7273 58.5,-650.7273 58.5,-621.2727 58.5,-621.2727 58.5,-619.4669 81.1349,-618 109,-618 136.8651,-618 159.5,-619.4669 159.5,-621.2727 159.5,-621.2727 159.5,-650.7273 159.5,-650.7273\"/>\n<path fill=\"none\" stroke=\"#000000\" d=\"M159.5,-650.7273C159.5,-648.9214 136.8651,-647.4545 109,-647.4545 81.1349,-647.4545 58.5,-648.9214 58.5,-650.7273\"/>\n<text text-anchor=\"middle\" x=\"109\" y=\"-632.3\" font-family=\"Times,serif\" font-size=\"14.00\" fill=\"#000000\">price (float)</text>\n</g>\n<!-- variable_price_0&#45;&gt;policy_act_0 -->\n<g id=\"edge11\" class=\"edge\">\n<title>variable_price_0&#45;&gt;policy_act_0</title>\n<path fill=\"none\" stroke=\"#000000\" d=\"M159.6878,-621.3131C173.4206,-617.3261 188.2818,-613.0043 202,-609 207.8723,-607.2859 213.9545,-605.5075 220.0654,-603.7186\"/>\n<polygon fill=\"#000000\" stroke=\"#000000\" points=\"221.0528,-607.0765 229.6657,-600.9066 219.0851,-600.3587 221.0528,-607.0765\"/>\n</g>\n<!-- variable_invariant_0 -->\n<g id=\"node11\" class=\"node\">\n<title>variable_invariant_0</title>\n<path fill=\"#f0fff0\" stroke=\"#000000\" d=\"M194,-596.7273C194,-598.5331 155.9016,-600 109,-600 62.0984,-600 24,-598.5331 24,-596.7273 24,-596.7273 24,-567.2727 24,-567.2727 24,-565.4669 62.0984,-564 109,-564 155.9016,-564 194,-565.4669 194,-567.2727 194,-567.2727 194,-596.7273 194,-596.7273\"/>\n<path fill=\"none\" stroke=\"#000000\" d=\"M194,-596.7273C194,-594.9214 155.9016,-593.4545 109,-593.4545 62.0984,-593.4545 24,-594.9214 24,-596.7273\"/>\n<text text-anchor=\"middle\" x=\"109\" y=\"-578.3\" font-family=\"Times,serif\" font-size=\"14.00\" fill=\"#000000\">invariant (NoneType)</text>\n</g>\n<!-- variable_invariant_0&#45;&gt;policy_act_0 -->\n<g id=\"edge12\" class=\"edge\">\n<title>variable_invariant_0&#45;&gt;policy_act_0</title>\n<path fill=\"none\" stroke=\"#000000\" d=\"M194.1899,-582C202.7521,-582 211.3984,-582 219.8328,-582\"/>\n<polygon fill=\"#000000\" stroke=\"#000000\" points=\"219.996,-585.5001 229.996,-582 219.9959,-578.5001 219.996,-585.5001\"/>\n</g>\n<!-- variable_kappa_0 -->\n<g id=\"node12\" class=\"node\">\n<title>variable_kappa_0</title>\n<path fill=\"#f0fff0\" stroke=\"#000000\" d=\"M183.5,-542.7273C183.5,-544.5331 150.1079,-546 109,-546 67.8921,-546 34.5,-544.5331 34.5,-542.7273 34.5,-542.7273 34.5,-513.2727 34.5,-513.2727 34.5,-511.4669 67.8921,-510 109,-510 150.1079,-510 183.5,-511.4669 183.5,-513.2727 183.5,-513.2727 183.5,-542.7273 183.5,-542.7273\"/>\n<path fill=\"none\" stroke=\"#000000\" d=\"M183.5,-542.7273C183.5,-540.9214 150.1079,-539.4545 109,-539.4545 67.8921,-539.4545 34.5,-540.9214 34.5,-542.7273\"/>\n<text text-anchor=\"middle\" x=\"109\" y=\"-524.3\" font-family=\"Times,serif\" font-size=\"14.00\" fill=\"#000000\">kappa (NoneType)</text>\n</g>\n<!-- variable_kappa_0&#45;&gt;policy_act_0 -->\n<g id=\"edge13\" class=\"edge\">\n<title>variable_kappa_0&#45;&gt;policy_act_0</title>\n<path fill=\"none\" stroke=\"#000000\" d=\"M168.5424,-545.2586C179.6635,-548.49 191.1869,-551.8436 202,-555 207.8723,-556.7141 213.9545,-558.4925 220.0654,-560.2814\"/>\n<polygon fill=\"#000000\" stroke=\"#000000\" points=\"219.0851,-563.6413 229.6657,-563.0934 221.0528,-556.9235 219.0851,-563.6413\"/>\n</g>\n<!-- variable_dP_0 -->\n<g id=\"node13\" class=\"node\">\n<title>variable_dP_0</title>\n<path fill=\"#f0fff0\" stroke=\"#000000\" d=\"M171,-488.7273C171,-490.5331 143.2106,-492 109,-492 74.7894,-492 47,-490.5331 47,-488.7273 47,-488.7273 47,-459.2727 47,-459.2727 47,-457.4669 74.7894,-456 109,-456 143.2106,-456 171,-457.4669 171,-459.2727 171,-459.2727 171,-488.7273 171,-488.7273\"/>\n<path fill=\"none\" stroke=\"#000000\" d=\"M171,-488.7273C171,-486.9214 143.2106,-485.4545 109,-485.4545 74.7894,-485.4545 47,-486.9214 47,-488.7273\"/>\n<text text-anchor=\"middle\" x=\"109\" y=\"-470.3\" font-family=\"Times,serif\" font-size=\"14.00\" fill=\"#000000\">dP (NoneType)</text>\n</g>\n<!-- variable_dP_0&#45;&gt;policy_act_0 -->\n<g id=\"edge14\" class=\"edge\">\n<title>variable_dP_0&#45;&gt;policy_act_0</title>\n<path fill=\"none\" stroke=\"#000000\" d=\"M171.0619,-487.877C181.7113,-491.4096 192.4214,-495.7394 202,-501 220.1077,-510.9447 237.7119,-524.9951 252.5904,-538.6071\"/>\n<polygon fill=\"#000000\" stroke=\"#000000\" points=\"250.4227,-541.3726 260.1108,-545.6614 255.2118,-536.2672 250.4227,-541.3726\"/>\n</g>\n<!-- variable_beta_0 -->\n<g id=\"node14\" class=\"node\">\n<title>variable_beta_0</title>\n<path fill=\"#f0fff0\" stroke=\"#000000\" d=\"M177.5,-434.7273C177.5,-436.5331 146.7972,-438 109,-438 71.2028,-438 40.5,-436.5331 40.5,-434.7273 40.5,-434.7273 40.5,-405.2727 40.5,-405.2727 40.5,-403.4669 71.2028,-402 109,-402 146.7972,-402 177.5,-403.4669 177.5,-405.2727 177.5,-405.2727 177.5,-434.7273 177.5,-434.7273\"/>\n<path fill=\"none\" stroke=\"#000000\" d=\"M177.5,-434.7273C177.5,-432.9214 146.7972,-431.4545 109,-431.4545 71.2028,-431.4545 40.5,-432.9214 40.5,-434.7273\"/>\n<text text-anchor=\"middle\" x=\"109\" y=\"-416.3\" font-family=\"Times,serif\" font-size=\"14.00\" fill=\"#000000\">beta (NoneType)</text>\n</g>\n<!-- variable_beta_0&#45;&gt;policy_act_0 -->\n<g id=\"edge15\" class=\"edge\">\n<title>variable_beta_0&#45;&gt;policy_act_0</title>\n<path fill=\"none\" stroke=\"#000000\" d=\"M177.6052,-433.9453C186.2647,-437.3858 194.6512,-441.6691 202,-447 233.6246,-469.941 257.8531,-507.281 273.4884,-536.8819\"/>\n<polygon fill=\"#000000\" stroke=\"#000000\" points=\"270.3833,-538.4972 278.0636,-545.7954 276.6109,-535.3006 270.3833,-538.4972\"/>\n</g>\n<!-- variable_reserve_0 -->\n<g id=\"node15\" class=\"node\">\n<title>variable_reserve_0</title>\n<path fill=\"#f0fff0\" stroke=\"#000000\" d=\"M168,-380.7273C168,-382.5331 141.5553,-384 109,-384 76.4447,-384 50,-382.5331 50,-380.7273 50,-380.7273 50,-351.2727 50,-351.2727 50,-349.4669 76.4447,-348 109,-348 141.5553,-348 168,-349.4669 168,-351.2727 168,-351.2727 168,-380.7273 168,-380.7273\"/>\n<path fill=\"none\" stroke=\"#000000\" d=\"M168,-380.7273C168,-378.9214 141.5553,-377.4545 109,-377.4545 76.4447,-377.4545 50,-378.9214 50,-380.7273\"/>\n<text text-anchor=\"middle\" x=\"109\" y=\"-362.3\" font-family=\"Times,serif\" font-size=\"14.00\" fill=\"#000000\">reserve (float)</text>\n</g>\n<!-- variable_reserve_0&#45;&gt;policy_act_0 -->\n<g id=\"edge16\" class=\"edge\">\n<title>variable_reserve_0&#45;&gt;policy_act_0</title>\n<path fill=\"none\" stroke=\"#000000\" d=\"M168.2692,-375.2209C180.3822,-379.1935 192.3572,-384.8752 202,-393 246.0146,-430.0858 270.715,-493.2108 283.1936,-536.215\"/>\n<polygon fill=\"#000000\" stroke=\"#000000\" points=\"279.8307,-537.1857 285.8905,-545.8764 286.5729,-535.3035 279.8307,-537.1857\"/>\n</g>\n<!-- variable_period_0 -->\n<g id=\"node16\" class=\"node\">\n<title>variable_period_0</title>\n<path fill=\"#f0fff0\" stroke=\"#000000\" d=\"M184.5,-326.7273C184.5,-328.5331 150.6597,-330 109,-330 67.3403,-330 33.5,-328.5331 33.5,-326.7273 33.5,-326.7273 33.5,-297.2727 33.5,-297.2727 33.5,-295.4669 67.3403,-294 109,-294 150.6597,-294 184.5,-295.4669 184.5,-297.2727 184.5,-297.2727 184.5,-326.7273 184.5,-326.7273\"/>\n<path fill=\"none\" stroke=\"#000000\" d=\"M184.5,-326.7273C184.5,-324.9214 150.6597,-323.4545 109,-323.4545 67.3403,-323.4545 33.5,-324.9214 33.5,-326.7273\"/>\n<text text-anchor=\"middle\" x=\"109\" y=\"-308.3\" font-family=\"Times,serif\" font-size=\"14.00\" fill=\"#000000\">period (NoneType)</text>\n</g>\n<!-- variable_period_0&#45;&gt;policy_act_0 -->\n<g id=\"edge17\" class=\"edge\">\n<title>variable_period_0&#45;&gt;policy_act_0</title>\n<path fill=\"none\" stroke=\"#000000\" d=\"M184.8928,-327.2477C191.1091,-330.4516 196.9363,-334.323 202,-339 258.3479,-391.0442 280.4304,-481.1601 288.9069,-535.8101\"/>\n<polygon fill=\"#000000\" stroke=\"#000000\" points=\"285.4741,-536.5253 290.3818,-545.9149 292.4007,-535.5142 285.4741,-536.5253\"/>\n</g>\n<!-- variable_rule_0 -->\n<g id=\"node17\" class=\"node\">\n<title>variable_rule_0</title>\n<path fill=\"#f0fff0\" stroke=\"#000000\" d=\"M176,-272.7273C176,-274.5331 145.9695,-276 109,-276 72.0305,-276 42,-274.5331 42,-272.7273 42,-272.7273 42,-243.2727 42,-243.2727 42,-241.4669 72.0305,-240 109,-240 145.9695,-240 176,-241.4669 176,-243.2727 176,-243.2727 176,-272.7273 176,-272.7273\"/>\n<path fill=\"none\" stroke=\"#000000\" d=\"M176,-272.7273C176,-270.9214 145.9695,-269.4545 109,-269.4545 72.0305,-269.4545 42,-270.9214 42,-272.7273\"/>\n<text text-anchor=\"middle\" x=\"109\" y=\"-254.3\" font-family=\"Times,serif\" font-size=\"14.00\" fill=\"#000000\">rule (NoneType)</text>\n</g>\n<!-- variable_rule_0&#45;&gt;policy_act_0 -->\n<g id=\"edge18\" class=\"edge\">\n<title>variable_rule_0&#45;&gt;policy_act_0</title>\n<path fill=\"none\" stroke=\"#000000\" d=\"M176.4138,-268.8145C185.8721,-272.6924 194.8037,-277.9309 202,-285 237.8589,-320.225 270.2347,-461.3871 285.2168,-535.7045\"/>\n<polygon fill=\"#000000\" stroke=\"#000000\" points=\"281.8275,-536.6059 287.2139,-545.7294 288.6926,-535.2382 281.8275,-536.6059\"/>\n</g>\n<!-- variable_sigma_0 -->\n<g id=\"node18\" class=\"node\">\n<title>variable_sigma_0</title>\n<path fill=\"#f0fff0\" stroke=\"#000000\" d=\"M183,-218.7273C183,-220.5331 149.832,-222 109,-222 68.168,-222 35,-220.5331 35,-218.7273 35,-218.7273 35,-189.2727 35,-189.2727 35,-187.4669 68.168,-186 109,-186 149.832,-186 183,-187.4669 183,-189.2727 183,-189.2727 183,-218.7273 183,-218.7273\"/>\n<path fill=\"none\" stroke=\"#000000\" d=\"M183,-218.7273C183,-216.9214 149.832,-215.4545 109,-215.4545 68.168,-215.4545 35,-216.9214 35,-218.7273\"/>\n<text text-anchor=\"middle\" x=\"109\" y=\"-200.3\" font-family=\"Times,serif\" font-size=\"14.00\" fill=\"#000000\">sigma (NoneType)</text>\n</g>\n<!-- variable_sigma_0&#45;&gt;policy_act_0 -->\n<g id=\"edge19\" class=\"edge\">\n<title>variable_sigma_0&#45;&gt;policy_act_0</title>\n<path fill=\"none\" stroke=\"#000000\" d=\"M183.1769,-217.5146C190.1437,-221.0395 196.6036,-225.4602 202,-231 244.25,-274.3722 274.9236,-450.5227 287.5833,-535.5873\"/>\n<polygon fill=\"#000000\" stroke=\"#000000\" points=\"284.1581,-536.3537 289.0728,-545.7396 291.084,-535.3374 284.1581,-536.3537\"/>\n</g>\n<!-- variable_spot_price_0 -->\n<g id=\"node19\" class=\"node\">\n<title>variable_spot_price_0</title>\n<path fill=\"#f0fff0\" stroke=\"#000000\" d=\"M178.5,-164.7273C178.5,-166.5331 147.349,-168 109,-168 70.651,-168 39.5,-166.5331 39.5,-164.7273 39.5,-164.7273 39.5,-135.2727 39.5,-135.2727 39.5,-133.4669 70.651,-132 109,-132 147.349,-132 178.5,-133.4669 178.5,-135.2727 178.5,-135.2727 178.5,-164.7273 178.5,-164.7273\"/>\n<path fill=\"none\" stroke=\"#000000\" d=\"M178.5,-164.7273C178.5,-162.9214 147.349,-161.4545 109,-161.4545 70.651,-161.4545 39.5,-162.9214 39.5,-164.7273\"/>\n<text text-anchor=\"middle\" x=\"109\" y=\"-146.3\" font-family=\"Times,serif\" font-size=\"14.00\" fill=\"#000000\">spot_price (float)</text>\n</g>\n<!-- variable_spot_price_0&#45;&gt;policy_act_0 -->\n<g id=\"edge20\" class=\"edge\">\n<title>variable_spot_price_0&#45;&gt;policy_act_0</title>\n<path fill=\"none\" stroke=\"#000000\" d=\"M178.7723,-161.1438C187.4599,-165.0026 195.5425,-170.1485 202,-177 250.7398,-228.7133 278.9655,-440.894 289.3722,-535.7758\"/>\n<polygon fill=\"#000000\" stroke=\"#000000\" points=\"285.9159,-536.37 290.4676,-545.9373 292.8756,-535.6197 285.9159,-536.37\"/>\n</g>\n<!-- variable_dust_0 -->\n<g id=\"node20\" class=\"node\">\n<title>variable_dust_0</title>\n<path fill=\"#f0fff0\" stroke=\"#000000\" d=\"M177.5,-110.7273C177.5,-112.5331 146.7972,-114 109,-114 71.2028,-114 40.5,-112.5331 40.5,-110.7273 40.5,-110.7273 40.5,-81.2727 40.5,-81.2727 40.5,-79.4669 71.2028,-78 109,-78 146.7972,-78 177.5,-79.4669 177.5,-81.2727 177.5,-81.2727 177.5,-110.7273 177.5,-110.7273\"/>\n<path fill=\"none\" stroke=\"#000000\" d=\"M177.5,-110.7273C177.5,-108.9214 146.7972,-107.4545 109,-107.4545 71.2028,-107.4545 40.5,-108.9214 40.5,-110.7273\"/>\n<text text-anchor=\"middle\" x=\"109\" y=\"-92.3\" font-family=\"Times,serif\" font-size=\"14.00\" fill=\"#000000\">dust (NoneType)</text>\n</g>\n<!-- variable_dust_0&#45;&gt;policy_act_0 -->\n<g id=\"edge21\" class=\"edge\">\n<title>variable_dust_0&#45;&gt;policy_act_0</title>\n<path fill=\"none\" stroke=\"#000000\" d=\"M177.5359,-106.3813C186.7321,-110.3232 195.2893,-115.6951 202,-123 257.2167,-183.1059 282.4216,-431.4397 290.7185,-535.6434\"/>\n<polygon fill=\"#000000\" stroke=\"#000000\" points=\"287.2479,-536.1581 291.514,-545.8561 294.2268,-535.6144 287.2479,-536.1581\"/>\n</g>\n<!-- variable_timestep_0 -->\n<g id=\"node21\" class=\"node\">\n<title>variable_timestep_0</title>\n<path fill=\"#f0fff0\" stroke=\"#000000\" d=\"M193,-56.7273C193,-58.5331 155.3499,-60 109,-60 62.6501,-60 25,-58.5331 25,-56.7273 25,-56.7273 25,-27.2727 25,-27.2727 25,-25.4669 62.6501,-24 109,-24 155.3499,-24 193,-25.4669 193,-27.2727 193,-27.2727 193,-56.7273 193,-56.7273\"/>\n<path fill=\"none\" stroke=\"#000000\" d=\"M193,-56.7273C193,-54.9214 155.3499,-53.4545 109,-53.4545 62.6501,-53.4545 25,-54.9214 25,-56.7273\"/>\n<text text-anchor=\"middle\" x=\"109\" y=\"-38.3\" font-family=\"Times,serif\" font-size=\"14.00\" fill=\"#000000\">timestep (NoneType)</text>\n</g>\n<!-- variable_timestep_0&#45;&gt;policy_act_0 -->\n<g id=\"edge22\" class=\"edge\">\n<title>variable_timestep_0&#45;&gt;policy_act_0</title>\n<path fill=\"none\" stroke=\"#000000\" d=\"M190.159,-58.9308C194.5073,-61.7946 198.5133,-65.1261 202,-69 263.7815,-137.6418 285.5311,-422.9845 291.8087,-535.8027\"/>\n<polygon fill=\"#000000\" stroke=\"#000000\" points=\"288.3172,-536.056 292.3521,-545.8524 295.3069,-535.678 288.3172,-536.056\"/>\n</g>\n<!-- agg_0 -->\n<g id=\"node23\" class=\"node\">\n<title>agg_0</title>\n<ellipse fill=\"#adff2f\" stroke=\"#000000\" stroke-width=\"2\" cx=\"449.4028\" cy=\"-582\" rx=\"55.3058\" ry=\"55.3058\"/>\n<text text-anchor=\"middle\" x=\"449.4028\" y=\"-578.3\" font-family=\"Times,serif\" font-size=\"14.00\" fill=\"#000000\">Aggregation</text>\n</g>\n<!-- policy_act_0&#45;&gt;agg_0 -->\n<g id=\"edge1\" class=\"edge\">\n<title>policy_act_0&#45;&gt;agg_0</title>\n<path fill=\"none\" stroke=\"#000000\" d=\"M358.1055,-582C366.546,-582 375.2075,-582 383.6745,-582\"/>\n<polygon fill=\"#000000\" stroke=\"#000000\" points=\"383.8783,-585.5001 393.8782,-582 383.8782,-578.5001 383.8783,-585.5001\"/>\n</g>\n<!-- suf_supply_0 -->\n<g id=\"node24\" class=\"node\">\n<title>suf_supply_0</title>\n<polygon fill=\"#ff0000\" stroke=\"#000000\" stroke-width=\"2\" points=\"708.8057,-792 574.8057,-792 574.8057,-732 708.8057,-732 720.8057,-762 708.8057,-792\"/>\n<text text-anchor=\"middle\" x=\"647.8057\" y=\"-758.3\" font-family=\"Times,serif\" font-size=\"14.00\" fill=\"#000000\">supply (update_S)</text>\n</g>\n<!-- agg_0&#45;&gt;suf_supply_0 -->\n<g id=\"edge23\" class=\"edge\">\n<title>agg_0&#45;&gt;suf_supply_0</title>\n<path fill=\"none\" stroke=\"#000000\" d=\"M471.1256,-633.2192C485.2012,-661.1893 505.9373,-694.5891 532.8057,-717 542.4191,-725.0186 553.6299,-731.7203 565.2093,-737.2888\"/>\n<polygon fill=\"#000000\" stroke=\"#000000\" points=\"563.9975,-740.5821 574.5512,-741.5152 566.8829,-734.2044 563.9975,-740.5821\"/>\n</g>\n<!-- suf_reserve_0 -->\n<g id=\"node25\" class=\"node\">\n<title>suf_reserve_0</title>\n<polygon fill=\"#ff0000\" stroke=\"#000000\" stroke-width=\"2\" points=\"712.3057,-702 571.3057,-702 571.3057,-642 712.3057,-642 724.3057,-672 712.3057,-702\"/>\n<text text-anchor=\"middle\" x=\"647.8057\" y=\"-668.3\" font-family=\"Times,serif\" font-size=\"14.00\" fill=\"#000000\">reserve (update_R)</text>\n</g>\n<!-- agg_0&#45;&gt;suf_reserve_0 -->\n<g id=\"edge24\" class=\"edge\">\n<title>agg_0&#45;&gt;suf_reserve_0</title>\n<path fill=\"none\" stroke=\"#000000\" d=\"M497.8489,-609.424C509.1855,-615.4809 521.3109,-621.6741 532.8057,-627 542.0929,-631.3031 551.9157,-635.5662 561.7514,-639.6547\"/>\n<polygon fill=\"#000000\" stroke=\"#000000\" points=\"560.5882,-642.9605 571.1684,-643.5167 563.2443,-636.484 560.5882,-642.9605\"/>\n</g>\n<!-- suf_spot_price_0 -->\n<g id=\"node26\" class=\"node\">\n<title>suf_spot_price_0</title>\n<polygon fill=\"#ff0000\" stroke=\"#000000\" stroke-width=\"2\" points=\"722.3057,-612 561.3057,-612 561.3057,-552 722.3057,-552 734.3057,-582 722.3057,-612\"/>\n<text text-anchor=\"middle\" x=\"647.8057\" y=\"-578.3\" font-family=\"Times,serif\" font-size=\"14.00\" fill=\"#000000\">spot_price (update_P)</text>\n</g>\n<!-- agg_0&#45;&gt;suf_spot_price_0 -->\n<g id=\"edge25\" class=\"edge\">\n<title>agg_0&#45;&gt;suf_spot_price_0</title>\n<path fill=\"none\" stroke=\"#000000\" d=\"M504.9329,-582C519.2268,-582 535.0321,-582 550.7648,-582\"/>\n<polygon fill=\"#000000\" stroke=\"#000000\" points=\"551.0765,-585.5001 561.0764,-582 551.0764,-578.5001 551.0765,-585.5001\"/>\n</g>\n<!-- suf_output_price_0 -->\n<g id=\"node27\" class=\"node\">\n<title>suf_output_price_0</title>\n<polygon fill=\"#ff0000\" stroke=\"#000000\" stroke-width=\"2\" points=\"742.8057,-522 540.8057,-522 540.8057,-462 742.8057,-462 754.8057,-492 742.8057,-522\"/>\n<text text-anchor=\"middle\" x=\"647.8057\" y=\"-488.3\" font-family=\"Times,serif\" font-size=\"14.00\" fill=\"#000000\">output_price (update_Pbar)</text>\n</g>\n<!-- agg_0&#45;&gt;suf_output_price_0 -->\n<g id=\"edge26\" class=\"edge\">\n<title>agg_0&#45;&gt;suf_output_price_0</title>\n<path fill=\"none\" stroke=\"#000000\" d=\"M497.8489,-554.576C509.1855,-548.5191 521.3109,-542.3259 532.8057,-537 536.3695,-535.3488 540.0122,-533.7034 543.7042,-532.0715\"/>\n<polygon fill=\"#000000\" stroke=\"#000000\" points=\"545.1894,-535.2424 552.9663,-528.0473 542.3999,-528.8222 545.1894,-535.2424\"/>\n</g>\n<!-- suf_price_0 -->\n<g id=\"node28\" class=\"node\">\n<title>suf_price_0</title>\n<polygon fill=\"#ff0000\" stroke=\"#000000\" stroke-width=\"2\" points=\"713.3057,-432 570.3057,-432 570.3057,-372 713.3057,-372 725.3057,-402 713.3057,-432\"/>\n<text text-anchor=\"middle\" x=\"647.8057\" y=\"-398.3\" font-family=\"Times,serif\" font-size=\"14.00\" fill=\"#000000\">price (capture_Pin)</text>\n</g>\n<!-- agg_0&#45;&gt;suf_price_0 -->\n<g id=\"edge27\" class=\"edge\">\n<title>agg_0&#45;&gt;suf_price_0</title>\n<path fill=\"none\" stroke=\"#000000\" d=\"M471.1256,-530.7808C485.2012,-502.8107 505.9373,-469.4109 532.8057,-447 541.1882,-440.0082 550.7851,-434.0175 560.782,-428.9063\"/>\n<polygon fill=\"#000000\" stroke=\"#000000\" points=\"562.5515,-431.9393 570.0518,-424.4562 559.522,-425.6288 562.5515,-431.9393\"/>\n</g>\n</g>\n</svg>\n"
     },
     "metadata": {},
     "execution_count": 32
    }
   ],
   "source": [
    "diagram_from_config(configs[0])"
   ]
  },
  {
   "cell_type": "code",
   "execution_count": 33,
   "metadata": {},
   "outputs": [
    {
     "output_type": "execute_result",
     "data": {
      "text/plain": [
       "                                   supply     price       reserve  spot_price  \\\n",
       "subset run timestep substep                                                     \n",
       "0      1   0        0        1.000000e+06  0.100000  50000.000000    0.100000   \n",
       "           1        1        1.237514e+06  0.112352  76572.049734    0.123751   \n",
       "           2        1        8.491690e+05  0.104194  36054.401572    0.084917   \n",
       "           3        1        1.142440e+06  0.100228  65258.466553    0.114244   \n",
       "           4        1        8.197813e+05  0.096390  33602.065655    0.081978   \n",
       "...                                   ...       ...           ...         ...   \n",
       "9      10  3996     1        9.914305e+05  0.099147  49146.724764    0.099143   \n",
       "           3997     1        9.916821e+05  0.099156  49171.668141    0.099168   \n",
       "           3998     1        9.912744e+05  0.099147  49131.247672    0.099127   \n",
       "           3999     1        9.918002e+05  0.099154  49183.381654    0.099180   \n",
       "           4000     1        9.912968e+05  0.099153  49133.470360    0.099130   \n",
       "\n",
       "                             output_price  simulation  \n",
       "subset run timestep substep                            \n",
       "0      1   0        0            0.100000           0  \n",
       "           1        1            0.111876           0  \n",
       "           2        1            0.104334           0  \n",
       "           3        1            0.099580           0  \n",
       "           4        1            0.098111           0  \n",
       "...                                   ...         ...  \n",
       "9      10  3996     1            0.099147           9  \n",
       "           3997     1            0.099156           9  \n",
       "           3998     1            0.099148           9  \n",
       "           3999     1            0.099154           9  \n",
       "           4000     1            0.099155           9  \n",
       "\n",
       "[400100 rows x 6 columns]"
      ],
      "text/html": "<div>\n<style scoped>\n    .dataframe tbody tr th:only-of-type {\n        vertical-align: middle;\n    }\n\n    .dataframe tbody tr th {\n        vertical-align: top;\n    }\n\n    .dataframe thead th {\n        text-align: right;\n    }\n</style>\n<table border=\"1\" class=\"dataframe\">\n  <thead>\n    <tr style=\"text-align: right;\">\n      <th></th>\n      <th></th>\n      <th></th>\n      <th></th>\n      <th>supply</th>\n      <th>price</th>\n      <th>reserve</th>\n      <th>spot_price</th>\n      <th>output_price</th>\n      <th>simulation</th>\n    </tr>\n    <tr>\n      <th>subset</th>\n      <th>run</th>\n      <th>timestep</th>\n      <th>substep</th>\n      <th></th>\n      <th></th>\n      <th></th>\n      <th></th>\n      <th></th>\n      <th></th>\n    </tr>\n  </thead>\n  <tbody>\n    <tr>\n      <th rowspan=\"5\" valign=\"top\">0</th>\n      <th rowspan=\"5\" valign=\"top\">1</th>\n      <th>0</th>\n      <th>0</th>\n      <td>1.000000e+06</td>\n      <td>0.100000</td>\n      <td>50000.000000</td>\n      <td>0.100000</td>\n      <td>0.100000</td>\n      <td>0</td>\n    </tr>\n    <tr>\n      <th>1</th>\n      <th>1</th>\n      <td>1.237514e+06</td>\n      <td>0.112352</td>\n      <td>76572.049734</td>\n      <td>0.123751</td>\n      <td>0.111876</td>\n      <td>0</td>\n    </tr>\n    <tr>\n      <th>2</th>\n      <th>1</th>\n      <td>8.491690e+05</td>\n      <td>0.104194</td>\n      <td>36054.401572</td>\n      <td>0.084917</td>\n      <td>0.104334</td>\n      <td>0</td>\n    </tr>\n    <tr>\n      <th>3</th>\n      <th>1</th>\n      <td>1.142440e+06</td>\n      <td>0.100228</td>\n      <td>65258.466553</td>\n      <td>0.114244</td>\n      <td>0.099580</td>\n      <td>0</td>\n    </tr>\n    <tr>\n      <th>4</th>\n      <th>1</th>\n      <td>8.197813e+05</td>\n      <td>0.096390</td>\n      <td>33602.065655</td>\n      <td>0.081978</td>\n      <td>0.098111</td>\n      <td>0</td>\n    </tr>\n    <tr>\n      <th>...</th>\n      <th>...</th>\n      <th>...</th>\n      <th>...</th>\n      <td>...</td>\n      <td>...</td>\n      <td>...</td>\n      <td>...</td>\n      <td>...</td>\n      <td>...</td>\n    </tr>\n    <tr>\n      <th rowspan=\"5\" valign=\"top\">9</th>\n      <th rowspan=\"5\" valign=\"top\">10</th>\n      <th>3996</th>\n      <th>1</th>\n      <td>9.914305e+05</td>\n      <td>0.099147</td>\n      <td>49146.724764</td>\n      <td>0.099143</td>\n      <td>0.099147</td>\n      <td>9</td>\n    </tr>\n    <tr>\n      <th>3997</th>\n      <th>1</th>\n      <td>9.916821e+05</td>\n      <td>0.099156</td>\n      <td>49171.668141</td>\n      <td>0.099168</td>\n      <td>0.099156</td>\n      <td>9</td>\n    </tr>\n    <tr>\n      <th>3998</th>\n      <th>1</th>\n      <td>9.912744e+05</td>\n      <td>0.099147</td>\n      <td>49131.247672</td>\n      <td>0.099127</td>\n      <td>0.099148</td>\n      <td>9</td>\n    </tr>\n    <tr>\n      <th>3999</th>\n      <th>1</th>\n      <td>9.918002e+05</td>\n      <td>0.099154</td>\n      <td>49183.381654</td>\n      <td>0.099180</td>\n      <td>0.099154</td>\n      <td>9</td>\n    </tr>\n    <tr>\n      <th>4000</th>\n      <th>1</th>\n      <td>9.912968e+05</td>\n      <td>0.099153</td>\n      <td>49133.470360</td>\n      <td>0.099130</td>\n      <td>0.099155</td>\n      <td>9</td>\n    </tr>\n  </tbody>\n</table>\n<p>400100 rows × 6 columns</p>\n</div>"
     },
     "metadata": {},
     "execution_count": 33
    }
   ],
   "source": [
    "import pandas as pd\n",
    "simulation_result = pd.DataFrame(raw_system_events)\n",
    "simulation_result.set_index(['subset', 'run', 'timestep', 'substep'])"
   ]
  },
  {
   "cell_type": "code",
   "execution_count": 35,
   "metadata": {},
   "outputs": [
    {
     "output_type": "error",
     "ename": "TypeError",
     "evalue": "'numpy.float64' object cannot be interpreted as an integer",
     "traceback": [
      "\u001b[0;31m---------------------------------------------------------------------------\u001b[0m",
      "\u001b[0;31mTypeError\u001b[0m                                 Traceback (most recent call last)",
      "\u001b[0;32m<ipython-input-35-26df821ed46c>\u001b[0m in \u001b[0;36m<module>\u001b[0;34m\u001b[0m\n\u001b[1;32m      2\u001b[0m         \u001b[0mcolormap\u001b[0m \u001b[0;34m=\u001b[0m \u001b[0;34m'gist_rainbow'\u001b[0m\u001b[0;34m,\u001b[0m\u001b[0;34m\u001b[0m\u001b[0;34m\u001b[0m\u001b[0m\n\u001b[1;32m      3\u001b[0m         \u001b[0mxticks\u001b[0m\u001b[0;34m=\u001b[0m\u001b[0mlist\u001b[0m\u001b[0;34m(\u001b[0m\u001b[0msimulation_result\u001b[0m\u001b[0;34m[\u001b[0m\u001b[0;34m'timestep'\u001b[0m\u001b[0;34m]\u001b[0m\u001b[0;34m.\u001b[0m\u001b[0mdrop_duplicates\u001b[0m\u001b[0;34m(\u001b[0m\u001b[0;34m)\u001b[0m\u001b[0;34m)\u001b[0m\u001b[0;34m,\u001b[0m\u001b[0;34m\u001b[0m\u001b[0;34m\u001b[0m\u001b[0m\n\u001b[0;32m----> 4\u001b[0;31m         yticks=list(range(1+(simulation_result['supply']+simulation_result['price']+simulation_result['reserve']).max())))\n\u001b[0m",
      "\u001b[0;31mTypeError\u001b[0m: 'numpy.float64' object cannot be interpreted as an integer"
     ]
    }
   ],
   "source": [
    "simulation_result.plot('timestep', ['supply', 'price', 'reserve'], grid=True, \n",
    "        colormap = 'gist_rainbow',\n",
    "        xticks=list(simulation_result['timestep'].drop_duplicates()), \n",
    "        yticks=list(range(1+(simulation_result['supply']+simulation_result['price']+simulation_result['reserve']).max())))"
   ]
  },
  {
   "cell_type": "code",
   "execution_count": null,
   "metadata": {},
   "outputs": [],
   "source": []
  }
 ]
}